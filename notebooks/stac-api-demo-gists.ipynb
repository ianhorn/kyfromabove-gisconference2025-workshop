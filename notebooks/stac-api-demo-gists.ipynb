{
 "cells": [
  {
   "cell_type": "markdown",
   "id": "c159a461",
   "metadata": {},
   "source": [
    "# Some Gists  \n",
    "\n",
    "Gists are code snippets"
   ]
  },
  {
   "cell_type": "code",
   "execution_count": null,
   "id": "1f784dfb",
   "metadata": {},
   "outputs": [
    {
     "data": {
      "application/vnd.jupyter.widget-view+json": {
       "model_id": "9d493be8be06440399edaec28b3b7411",
       "version_major": 2,
       "version_minor": 0
      },
      "text/plain": [
       "Map(center=[38.04855184, -84.50059457], controls=(ZoomControl(options=['position', 'zoom_in_text', 'zoom_in_ti…"
      ]
     },
     "execution_count": 2,
     "metadata": {},
     "output_type": "execute_result"
    }
   ],
   "source": [
    "# import our modules\n",
    "import requests\n",
    "from leafmap import Map\n",
    "from pystac_client import Client\n",
    "\n",
    "# draw a map for reference\n",
    "m = Map(\n",
    "    center=(38.04855184, -84.50059457), \n",
    "    zoom=12\n",
    "    )\n",
    "\n",
    "m.add_tile_layer(\n",
    "    url=\"https://kygisserver.ky.gov/arcgis/rest/services/WGS84WM_Services/Ky_TCM_Base_WGS84WM/MapServer/tile/{z}/{y}/{x}\",\n",
    "    name=\"TCM\",\n",
    "    attribution=\"DGI\",\n",
    ")\n",
    "\n",
    "# declare some basic variables\n",
    "\n",
    "bbox = '-84.57479592,38.00492759,-84.41622051,38.07550761'\n",
    "stac_url = 'https://spved5ihrl.execute-api.us-west-2.amazonaws.com/'\n",
    "collection = 'orthos-phase3'\n",
    "\n",
    "# initial the stac client\n",
    "client = Client.open(stac_url)\n",
    "\n",
    "# set up the search\n",
    "search = client.search(\n",
    "    collections=collection,\n",
    "    bbox = bbox,\n",
    "    limit = 100\n",
    ")\n",
    "\n",
    "# get the items\n",
    "items = search.get_all_items()\n",
    "\n",
    "cogs = []\n",
    "for item in items:\n",
    "    for band, asset in item.assets.items():\n",
    "        if asset.media_type == \"image/tiff; application=geotiff; profile=cloud-optimized\":\n",
    "            cogs.append(asset.href)\n",
    "\n",
    "print(f\"Found {len(cogs)} COGs\")\n",
    "for c in cogs[:5]:\n",
    "    print(c)"
   ]
  },
  {
   "cell_type": "markdown",
   "id": "3013d8de",
   "metadata": {},
   "source": [
    "# Build a VRT  "
   ]
  },
  {
   "cell_type": "code",
   "execution_count": null,
   "id": "0414b597",
   "metadata": {},
   "outputs": [],
   "source": [
    "from osgeo import gdal\n",
    "import leafmap\n",
    "\n",
    "# ---- Step 1: Get your list of COG URLs ----\n",
    "cogs = [asset.href for item in items for asset in item.assets.values()\n",
    "        if asset.media_type == \"image/tiff; application=geotiff; profile=cloud-optimized\"]\n",
    "\n",
    "\n",
    "# ---- Step 2: Create a VRT (virtual raster mosaic) ----\n",
    "# Band order: 4 (NIR), 1 (Blue), 2 (Green)\n",
    "# GDAL uses 1-based indexing for bands when using separate sources, but\n",
    "# for multiple files, BuildVRT keeps original bands. We'll reorder later when reading.\n",
    "\n",
    "vrt_path = \"mosaic_4_1_2.vrt\"\n",
    "vrt_options = gdal.BuildVRTOptions(resolution='highest')  # 'average' or 'highest'\n",
    "\n",
    "vrt = gdal.BuildVRT(\n",
    "    vrt_path,\n",
    "    cogs,\n",
    "    options=vrt_options\n",
    ")\n",
    "\n",
    "vrt = None  # flush to disk\n",
    "print(f\"VRT saved to {vrt_path}\")\n",
    "\n",
    "\n",
    "# ---- Step 3: Display in Leafmap via Titiler ----\n",
    "# If you have local Titiler running on localhost:8000\n",
    "titiler_endpoint = \"http://localhost:8000\"\n",
    "\n",
    "# Build a URL template for the VRT (Titiler can serve local files)\n",
    "tile_url = f\"{titiler_endpoint}/cog/tiles/{{z}}/{{x}}/{{y}}.png?bidx=4,1,2&rescale=0,3000\"\n",
    "\n",
    "m = leafmap.Map(center=[37.5, -85.5], zoom=7)\n",
    "m.add_tile_layer(\n",
    "    url=tile_url,\n",
    "    name=\"Impervious Surface Mosaic (4-1-2)\",\n",
    "    attribution=\"Local Titiler\"\n",
    ")\n",
    "\n",
    "m"
   ]
  },
  {
   "cell_type": "code",
   "execution_count": null,
   "id": "696305f6",
   "metadata": {},
   "outputs": [],
   "source": []
  }
 ],
 "metadata": {
  "kernelspec": {
   "display_name": "workshop-env",
   "language": "python",
   "name": "python3"
  },
  "language_info": {
   "codemirror_mode": {
    "name": "ipython",
    "version": 3
   },
   "file_extension": ".py",
   "mimetype": "text/x-python",
   "name": "python",
   "nbconvert_exporter": "python",
   "pygments_lexer": "ipython3",
   "version": "3.12.10"
  }
 },
 "nbformat": 4,
 "nbformat_minor": 5
}
