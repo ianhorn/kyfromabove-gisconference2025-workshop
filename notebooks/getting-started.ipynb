{
 "cells": [
  {
   "cell_type": "markdown",
   "id": "80421cef",
   "metadata": {},
   "source": [
    "# DGI/KyFromAbove Workshop\n",
    "#### Getting Started\n",
    "\n",
    "Let's get started using a notebook.  This will be a simple example just to make sure we have set up the environments."
   ]
  },
  {
   "cell_type": "markdown",
   "id": "c1b7e493",
   "metadata": {},
   "source": [
    "Install python modules/packages/libraries . .  whatever.  Let's make sure our code works."
   ]
  },
  {
   "cell_type": "code",
   "execution_count": null,
   "id": "f7f3c5fa",
   "metadata": {
    "vscode": {
     "languageId": "plaintext"
    }
   },
   "outputs": [],
   "source": [
    "%pip install boto3\n",
    "%pip install leafmap"
   ]
  },
  {
   "cell_type": "markdown",
   "id": "1f2c823e",
   "metadata": {},
   "source": [
    "Some basic code"
   ]
  },
  {
   "cell_type": "code",
   "execution_count": null,
   "id": "7a250ae9",
   "metadata": {
    "vscode": {
     "languageId": "plaintext"
    }
   },
   "outputs": [],
   "source": [
    "import boto3                         # AWS Python SDK\n",
    "from botocore import UNSIGNED        # access AWS with credentions, for\n",
    "from botocore.client import Config   # open data only\n",
    "from ipyleaflet import "
   ]
  }
 ],
 "metadata": {
  "language_info": {
   "name": "python"
  }
 },
 "nbformat": 4,
 "nbformat_minor": 5
}
