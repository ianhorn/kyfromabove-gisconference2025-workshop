{
 "cells": [
  {
   "cell_type": "markdown",
   "id": "80421cef",
   "metadata": {},
   "source": [
    "# DGI/KyFromAbove Workshop\n",
    "#### Getting Started\n",
    "\n",
    "Let's get started using a notebook.  This will be a simple example just to make sure we have set up the environments."
   ]
  },
  {
   "cell_type": "markdown",
   "id": "c1b7e493",
   "metadata": {},
   "source": [
    "Install python modules/packages/libraries . .  whatever.  Let's make sure our code works."
   ]
  },
  {
   "cell_type": "code",
   "execution_count": null,
   "id": "f7f3c5fa",
   "metadata": {
    "vscode": {
     "languageId": "plaintext"
    }
   },
   "outputs": [],
   "source": [
    "%pip install geopandas"
   ]
  }
 ],
 "metadata": {
  "language_info": {
   "name": "python"
  }
 },
 "nbformat": 4,
 "nbformat_minor": 5
}
