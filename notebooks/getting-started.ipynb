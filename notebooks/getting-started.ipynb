{
 "cells": [
  {
   "cell_type": "markdown",
   "id": "80421cef",
   "metadata": {},
   "source": [
    "# DGI/KyFromAbove Workshop\n",
    "#### Getting Started\n",
    "\n",
    "September 22, 2025\n",
    "Kentucky GIS Conference\n",
    "Fun Exploration of KyFromAbove with Python and other Tools\n",
    "\n",
    "Let's get started using a notebook.  If you are using MyBinder to run this notebook, the environment is mostly set up already."
   ]
  },
  {
   "cell_type": "markdown",
   "id": "1f2c823e",
   "metadata": {},
   "source": [
    "## Some basic code\n",
    "\n",
    "Install python modules/packages/libraries . .  whatever.  Let's make sure our code works.\n",
    "\n",
    "*\\* For future tutorials, I may use [obstore](https://developmentseed.org/obstore/) to replace the botocore libraries.*"
   ]
  },
  {
   "cell_type": "code",
   "execution_count": 1,
   "id": "7a250ae9",
   "metadata": {},
   "outputs": [],
   "source": [
    "import os\n",
    "from leafmap import Map                # interactive mapping in Python\n",
    "import geopandas as gpd                # working with geospatial data in Python\n",
    "from pystac_client import Client       # STAC API client"
   ]
  },
  {
   "cell_type": "markdown",
   "id": "d030dcad",
   "metadata": {},
   "source": [
    "Let's get ready to build a map.  First, we are going to visit [The Commonwealth Map](https://kygeonet.ky.gov/tcm) to use the coordinate widget to grab center coordinates.\n",
    "\n",
    "<p align=\"center\">\n",
    "    <img src=\"assets/coordinate_widget.png\" width=\"450\" height=\"auto\" />\n",
    "</p>\n",
    "\n",
    "I was able to copy: -84.886 37.917 Degrees.  We can use this to center our map.  \n",
    "\n",
    "Notice the values pasted are in the order of long/lat.  When we go to add the values for the map, make sure to reverse the order so that it is lat/long\n",
    "\n",
    "```juypter\n",
    "m = Map(center=(lat, long, zoom=4, width= , height=))\n",
    "```\n",
    "\n",
    "Fill the values for `center`, `zoom`, and `size`."
   ]
  },
  {
   "cell_type": "code",
   "execution_count": 2,
   "id": "de7f7654",
   "metadata": {},
   "outputs": [
    {
     "data": {
      "application/vnd.jupyter.widget-view+json": {
       "model_id": "28b0ae6f09e6401592a543c7cb023ef2",
       "version_major": 2,
       "version_minor": 0
      },
      "text/plain": [
       "Map(center=[37, -85.5], controls=(ZoomControl(options=['position', 'zoom_in_text', 'zoom_in_title', 'zoom_out_…"
      ]
     },
     "execution_count": 2,
     "metadata": {},
     "output_type": "execute_result"
    }
   ],
   "source": [
    "# let's create a map\n",
    "m = Map(\n",
    "    center=(37, -85.5), \n",
    "    zoom=7,\n",
    "    # width=500, \n",
    "    # height=300\n",
    "    )\n",
    "# display the map by using m or display(m)\n",
    "m"
   ]
  },
  {
   "cell_type": "markdown",
   "id": "524d8a0d",
   "metadata": {},
   "source": [
    "Familiarize yourself with the map and the default widgets on the left.  Take a moment to test drive the ones on the left.  \n",
    "\n",
    "- zoom\n",
    "- fullscreen\n",
    "- polyline\n",
    "- polygon\n",
    "- rectangle\n",
    "- circle\n",
    "- marker\n",
    "- edit\n",
    "- delete\n",
    "\n",
    "When you are done, go to the previous cell and make adjustments to zoom, height, width, or coordinates.  "
   ]
  },
  {
   "cell_type": "markdown",
   "id": "1883674d",
   "metadata": {},
   "source": [
    "Now take a moment to open the toolbox in the top right.  Scroll over each thumbnail to see what's available.  Try them out.  We'll comeback to this later. "
   ]
  },
  {
   "cell_type": "markdown",
   "id": "4b72f530",
   "metadata": {},
   "source": [
    "While we're working on the map.  Let's add a *WMSLayer* of The Commonwealth Basemap."
   ]
  },
  {
   "cell_type": "code",
   "execution_count": 3,
   "id": "0e44c9a0",
   "metadata": {},
   "outputs": [
    {
     "data": {
      "application/vnd.jupyter.widget-view+json": {
       "model_id": "28b0ae6f09e6401592a543c7cb023ef2",
       "version_major": 2,
       "version_minor": 0
      },
      "text/plain": [
       "Map(bottom=13054.0, center=[37, -85.5], controls=(ZoomControl(options=['position', 'zoom_in_text', 'zoom_in_ti…"
      ]
     },
     "execution_count": 3,
     "metadata": {},
     "output_type": "execute_result"
    }
   ],
   "source": [
    "m.add_tile_layer(\n",
    "    url=\"https://kygisserver.ky.gov/arcgis/rest/services/WGS84WM_Services/Ky_TCM_Base_WGS84WM/MapServer/tile/{z}/{y}/{x}\",\n",
    "    name=\"TCM\",\n",
    "    attribution=\"DGI\",\n",
    ")\n",
    "m"
   ]
  },
  {
   "cell_type": "markdown",
   "id": "ee7d6459",
   "metadata": {},
   "source": [
    "___\n",
    "## Get Building Heights"
   ]
  },
  {
   "cell_type": "markdown",
   "id": "bfcc572f",
   "metadata": {},
   "source": [
    "Building heights are an important attribute in a lot of contexts: urban studies, environmental studies, emergency management, economics, and of course, geospatial and remote sensing.\n",
    "\n",
    "Though, using LiDAR to extract building footprints is a fun exercise, many excellent resources already exist.  I like [Overture Maps](https://docs.overturemaps.org/guides/buildings/#14/32.58453/-117.05154/0/60) building datasets. \n",
    "\n",
    "We are going to use overture maps dataset and KyFromAbove LiDAR Pointcloud data to extract building heights.\n",
    "\n",
    "These are the steps we are going to take.\n",
    "\n",
    "1. Find an area of interest\n",
    "2. Get building footprint data\n",
    "3. Search STAC for pointcloud data.\n",
    "4. Create a Height Above Ground Model\\*\n",
    "5. Perform zonal statistics on buildings\n",
    "\n",
    "\n",
    "\\* Using the Height Above Ground model is much more efficient and accurate than using math and dsm/dtm."
   ]
  },
  {
   "cell_type": "markdown",
   "id": "536d3bc2",
   "metadata": {},
   "source": [
    "### Find an AOI\n",
    "\n",
    "To find our area of interest, let's overlay the Phase 3 Pointcloud Tile Grid on the map.\n",
    "\n",
    "- Go to [KyFromAbove Stac-Browser](https://kygeonet.ky.gov/stac)\n",
    "- Click on the *Point Cloud Phase 3 (COPC)* collection.\n",
    "- Find the tile index geopackage in under *Asssets*\n",
    "- Click *Copy URL*\n",
    "- Paste it to your local text file or in your notebook with comments (#)<br><p><img src=\"assets/tileindexlink.png\" width=\"600\" height=\"auto\" /></p>\n",
    "- Add to map"
   ]
  },
  {
   "cell_type": "code",
   "execution_count": 4,
   "id": "e58c9acf",
   "metadata": {},
   "outputs": [
    {
     "data": {
      "application/vnd.jupyter.widget-view+json": {
       "model_id": "28b0ae6f09e6401592a543c7cb023ef2",
       "version_major": 2,
       "version_minor": 0
      },
      "text/plain": [
       "Map(bottom=13054.0, center=[37, -85.5], controls=(ZoomControl(options=['position', 'zoom_in_text', 'zoom_in_ti…"
      ]
     },
     "execution_count": 4,
     "metadata": {},
     "output_type": "execute_result"
    }
   ],
   "source": [
    "# add tile index to map\n",
    "tile_index = \"https://kyfromabove.s3-us-west-2.amazonaws.com/elevation/PointCloud/TileGrids/kyfromabove_phase3_pointcloud_5k_grid.gpkg\"\n",
    "# read with geopandas\n",
    "gdf = gpd.read_file(tile_index)\n",
    "# add to map\n",
    "m.add_gdf(gdf, layer_name=\"Phase 3 Tile Index\")\n",
    "m"
   ]
  },
  {
   "cell_type": "markdown",
   "id": "974e6c3a",
   "metadata": {},
   "source": []
  },
  {
   "cell_type": "code",
   "execution_count": 5,
   "id": "c6e628c9",
   "metadata": {},
   "outputs": [
    {
     "name": "stdout",
     "output_type": "stream",
     "text": [
      "https://kyfromabove.s3.us-west-2.amazonaws.com/elevation/PointCloud/Phase3/N023E293_LAS_Phase3.copc.laz\n"
     ]
    }
   ],
   "source": [
    "# get AWS URL\n",
    "aws_url = input(\"Paste the AWS S3 URL for the KyFromAbove data: \")\n",
    "print(aws_url)"
   ]
  },
  {
   "cell_type": "markdown",
   "id": "d0db7761",
   "metadata": {},
   "source": [
    "#### Get extent values\n",
    "\n",
    "Now that we know the tile and have it's name.  Let's go to the STAC API to grab to extent details. \n",
    "\n",
    "1. Extract the STAC Item ID from the file path"
   ]
  },
  {
   "cell_type": "code",
   "execution_count": 6,
   "id": "c287a7f9",
   "metadata": {},
   "outputs": [
    {
     "data": {
      "text/plain": [
       "'N023E293_LAS_Phase3.copc'"
      ]
     },
     "execution_count": 6,
     "metadata": {},
     "output_type": "execute_result"
    }
   ],
   "source": [
    "# get the item_id\n",
    "tile_basename = os.path.basename(aws_url)    # Separate the path and get the file name\n",
    "item_id = tile_basename.replace(\".laz\", \"\")  # Remove the file extension to get the\n",
    "item_id"
   ]
  },
  {
   "cell_type": "markdown",
   "id": "092e0687",
   "metadata": {},
   "source": [
    "2. Use [PySTAC](https://pystac.readthedocs.io/en/stable/) to get info on the Item\n",
    "\n",
    "    - connect to the API *https://spved5ihrl.execute-api.us-west-2.amazonaws.com*\n",
    "    - get item\n",
    "    - get item info"
   ]
  },
  {
   "cell_type": "code",
   "execution_count": 7,
   "id": "8b9b4ec8",
   "metadata": {},
   "outputs": [],
   "source": [
    "# stac api url\n",
    "stac_api_url = \"https://spved5ihrl.execute-api.us-west-2.amazonaws.com\"\n",
    "client = Client.open(stac_api_url)\n",
    "\n",
    "stac_item = item_id\n",
    "results = client.search(ids=[stac_item])"
   ]
  },
  {
   "cell_type": "code",
   "execution_count": 8,
   "id": "1314116b",
   "metadata": {},
   "outputs": [
    {
     "name": "stdout",
     "output_type": "stream",
     "text": [
      "[-84.628911, 38.975701, -84.611113, 38.989593]\n",
      "-84.628911,38.975701,-84.611113,38.989593\n"
     ]
    }
   ],
   "source": [
    "for item in results.get_items():\n",
    "    bbox = item.bbox\n",
    "print(bbox)\n",
    "\n",
    "geometry = bbox[0], bbox[1], bbox[2], bbox[3]\n",
    "geometry = str(geometry).replace(\"(\", \"\").replace(\")\", \"\").replace(\" \", \"\")\n",
    "print(geometry)"
   ]
  },
  {
   "cell_type": "markdown",
   "id": "d332e4dd",
   "metadata": {},
   "source": [
    "We will use these bbox values to help us filter buildings."
   ]
  },
  {
   "cell_type": "markdown",
   "id": "377224c1",
   "metadata": {},
   "source": [
    "___\n",
    "### Get Building Footprints\n",
    "\n",
    "1. Visit the Kentucky [Open Data Portal](https://opengisdata.ky.gov) and search for buildings.  \n",
    "2. Click on *Kentucky Building Footprints - Overture Maps Foundation*.\n",
    "3. At the bottom of the left sidebar, click *I want to use this*.\n",
    "4. Toggle open *View API Resources*.\n",
    "5. Click on *View* for the GeoService\\*.<br><p><img src=\"assets/api_resources.png\" width=\"400\" height=\"auto\" /></p>\n",
    "\n",
    "*Refer to the Rest API [Query](https://developers.arcgis.com/rest/services-reference/enterprise/query-feature-service/) Documentation for the next step."
   ]
  },
  {
   "cell_type": "markdown",
   "id": "f37c28b6",
   "metadata": {},
   "source": [
    "#### Set up a query\n",
    "\n",
    "From step five above, we should now be on the rest service endpoint for the buildings layer.\n",
    "\n",
    "1. Grab the bbox from the code cell above without the brackets *[]*.\n",
    "2. Paste it into the *Input Geometry* on the service end point.\n",
    "3. Use `4326` as the *Input Spatial Reference*.\n",
    "4. Enter the number `6` for *Geometry Precision*.\n",
    "5. Click *Query (GET)*.  Leave as HMTL to see if it works\n",
    "6. Switch format to `GeoJSON`.\n",
    "7. Click Get\n",
    "8. Copy the URL and paste to your text file for use in the next cell."
   ]
  },
  {
   "cell_type": "code",
   "execution_count": 9,
   "id": "e2d3f65e",
   "metadata": {},
   "outputs": [],
   "source": [
    "# get Overture Maps Bulding Footprints\n",
    "buildings_geojson = input(\"Paste the URL for the Overture Maps Building Footprints: \")"
   ]
  },
  {
   "cell_type": "markdown",
   "id": "dc6565c7",
   "metadata": {},
   "source": [
    "Add it to the map"
   ]
  },
  {
   "cell_type": "code",
   "execution_count": 10,
   "id": "17bac6c8",
   "metadata": {},
   "outputs": [
    {
     "data": {
      "application/vnd.jupyter.widget-view+json": {
       "model_id": "28b0ae6f09e6401592a543c7cb023ef2",
       "version_major": 2,
       "version_minor": 0
      },
      "text/plain": [
       "Map(bottom=13054.0, center=[37, -85.5], controls=(ZoomControl(options=['position', 'zoom_in_text', 'zoom_in_ti…"
      ]
     },
     "execution_count": 10,
     "metadata": {},
     "output_type": "execute_result"
    }
   ],
   "source": [
    "\n",
    "m.add_geojson(buildings_geojson, layer_name=\"Building Footprints\",\n",
    "              style={\"fillColor\": \"yellow\", \"color\": \"orange\", \"weight\": 1, \"fillOpacity\": 0.5})\n",
    "m\n"
   ]
  },
  {
   "cell_type": "markdown",
   "id": "1b80d39f",
   "metadata": {},
   "source": [
    "#### Clean up the map\n",
    "\n",
    "The map has a few too many layers from trial and error.  Let's clean that up."
   ]
  },
  {
   "cell_type": "code",
   "execution_count": 14,
   "id": "7466f33d",
   "metadata": {},
   "outputs": [],
   "source": [
    "m_clean = Map(\n",
    "    center=(37.5, -85.5),\n",
    "    zoom=7)\n",
    "\n",
    "m_clean.add_tile_layer(\n",
    "    url=\"https://kygisserver.ky.gov/arcgis/rest/services/WGS84WM_Services/Ky_TCM_Base_WGS84WM/MapServer/tile/{z}/{y}/{x}\",\n",
    "    name=\"TCM\",\n",
    "    attribution=\"DGI\",)\n",
    "m_clean.add_geojson(buildings_geojson, layer_name=\"Building Footprints\",\n",
    "              style={\"fillColor\": \"yellow\", \"color\": \"orange\", \"weight\": 1, \"fillOpacity\": 0.5}) \n"
   ]
  },
  {
   "cell_type": "code",
   "execution_count": 15,
   "id": "19ed7a1e",
   "metadata": {},
   "outputs": [
    {
     "data": {
      "application/vnd.jupyter.widget-view+json": {
       "model_id": "d96554e95ff54cbfbf836229fa2d8161",
       "version_major": 2,
       "version_minor": 0
      },
      "text/plain": [
       "Map(center=[37.5, -85.5], controls=(ZoomControl(options=['position', 'zoom_in_text', 'zoom_in_title', 'zoom_ou…"
      ]
     },
     "execution_count": 15,
     "metadata": {},
     "output_type": "execute_result"
    }
   ],
   "source": [
    "m_clean"
   ]
  },
  {
   "cell_type": "markdown",
   "id": "c2d19afc",
   "metadata": {},
   "source": [
    "___\n",
    "### Use PDAL to create the HAG"
   ]
  },
  {
   "cell_type": "code",
   "execution_count": null,
   "id": "4d77f87e",
   "metadata": {},
   "outputs": [],
   "source": []
  }
 ],
 "metadata": {
  "kernelspec": {
   "display_name": "workshop-env",
   "language": "python",
   "name": "python3"
  },
  "language_info": {
   "codemirror_mode": {
    "name": "ipython",
    "version": 3
   },
   "file_extension": ".py",
   "mimetype": "text/x-python",
   "name": "python",
   "nbconvert_exporter": "python",
   "pygments_lexer": "ipython3",
   "version": "3.12.10"
  }
 },
 "nbformat": 4,
 "nbformat_minor": 5
}
