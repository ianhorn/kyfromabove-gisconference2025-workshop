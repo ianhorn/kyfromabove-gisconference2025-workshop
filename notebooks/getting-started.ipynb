{
 "cells": [
  {
   "cell_type": "markdown",
   "id": "80421cef",
   "metadata": {},
   "source": [
    "# DGI/KyFromAbove Workshop\n",
    "#### Getting Started\n",
    "\n",
    "September 22, 2025\n",
    "Kentucky GIS Conference\n",
    "Fun Exploration of KyFromAbove with Python and other Tools\n",
    "\n",
    "Let's get started using a notebook.  If you are using MyBinder to run this notebook, the environment is mostly set up already."
   ]
  },
  {
   "cell_type": "markdown",
   "id": "1f2c823e",
   "metadata": {},
   "source": [
    "## Some basic code\n",
    "\n",
    "Install python modules/packages/libraries . .  whatever.  Let's make sure our code works.\n",
    "\n",
    "*\\* For future tutorials, I may use [obstore](https://developmentseed.org/obstore/) to replace the botocore libraries.*"
   ]
  },
  {
   "cell_type": "code",
   "execution_count": 1,
   "id": "7a250ae9",
   "metadata": {},
   "outputs": [],
   "source": [
    "import boto3                         # AWS Python SDK\n",
    "from botocore import UNSIGNED        # access AWS with credentions, for\n",
    "from botocore.client import Config   # open data only\n",
    "from leafmap import Map              # interactive mapping in Python\n",
    "from IPython.display import display  # display maps in Jupyter Notebooks\n",
    "import geopandas as gpd              # working with geospatial data in Python"
   ]
  },
  {
   "cell_type": "markdown",
   "id": "d030dcad",
   "metadata": {},
   "source": [
    "Let's get ready to build a map.  First, we are going to visit [The Commonwealth Map](https://kygeonet.ky.gov/tcm) to use the coordinate widget to grab center coordinates.\n",
    "\n",
    "<p align=\"center\">\n",
    "    <img src=\"assets/coordinate_widget.png\" width=\"450\" height=\"auto\" />\n",
    "</p>\n",
    "\n",
    "I was able to copy: -84.886 37.917 Degrees.  We can use this to center our map.  \n",
    "\n",
    "Notice the values pasted are in the order of long/lat.  When we go to add the values for the map, make sure to reverse the order so that it is lat/long\n",
    "\n",
    "```juypter\n",
    "m = Map(center=(lat, long, zoom=4, width= , height=))\n",
    "```\n",
    "\n",
    "Fill the values for `center`, `zoom`, and `size`."
   ]
  },
  {
   "cell_type": "code",
   "execution_count": 2,
   "id": "de7f7654",
   "metadata": {},
   "outputs": [
    {
     "data": {
      "application/vnd.jupyter.widget-view+json": {
       "model_id": "8d09985a70694dc6a10587a146520038",
       "version_major": 2,
       "version_minor": 0
      },
      "text/plain": [
       "Map(center=[37, -85.5], controls=(ZoomControl(options=['position', 'zoom_in_text', 'zoom_in_title', 'zoom_out_…"
      ]
     },
     "execution_count": 2,
     "metadata": {},
     "output_type": "execute_result"
    },
    {
     "ename": "AttributeError",
     "evalue": "'Map' object has no attribute 'cog_layer_dict'",
     "output_type": "error",
     "traceback": [
      "\u001b[31m---------------------------------------------------------------------------\u001b[39m",
      "\u001b[31mAttributeError\u001b[39m                            Traceback (most recent call last)",
      "\u001b[36mFile \u001b[39m\u001b[32mc:\\Program Files\\ArcGIS\\Pro\\bin\\Python\\envs\\workshop-env\\Lib\\site-packages\\leafmap\\toolbar.py:6370\u001b[39m, in \u001b[36mlayer_manager_gui.<locals>.layers_btn_click.<locals>.layer_settings_click\u001b[39m\u001b[34m(b)\u001b[39m\n\u001b[32m   6369\u001b[39m \u001b[38;5;28;01mdef\u001b[39;00m\u001b[38;5;250m \u001b[39m\u001b[34mlayer_settings_click\u001b[39m(b):\n\u001b[32m-> \u001b[39m\u001b[32m6370\u001b[39m     \u001b[38;5;28;01mif\u001b[39;00m b.tooltip \u001b[38;5;129;01min\u001b[39;00m \u001b[43mm\u001b[49m\u001b[43m.\u001b[49m\u001b[43mcog_layer_dict\u001b[49m:\n\u001b[32m   6371\u001b[39m         m._add_layer_editor(\n\u001b[32m   6372\u001b[39m             position=\u001b[33m\"\u001b[39m\u001b[33mtopright\u001b[39m\u001b[33m\"\u001b[39m,\n\u001b[32m   6373\u001b[39m             layer_dict=m.cog_layer_dict[b.tooltip],\n\u001b[32m   6374\u001b[39m         )\n",
      "\u001b[31mAttributeError\u001b[39m: 'Map' object has no attribute 'cog_layer_dict'"
     ]
    },
    {
     "ename": "AttributeError",
     "evalue": "'Map' object has no attribute 'cog_layer_dict'",
     "output_type": "error",
     "traceback": [
      "\u001b[31m---------------------------------------------------------------------------\u001b[39m",
      "\u001b[31mAttributeError\u001b[39m                            Traceback (most recent call last)",
      "\u001b[36mFile \u001b[39m\u001b[32mc:\\Program Files\\ArcGIS\\Pro\\bin\\Python\\envs\\workshop-env\\Lib\\site-packages\\leafmap\\toolbar.py:6370\u001b[39m, in \u001b[36mlayer_manager_gui.<locals>.layers_btn_click.<locals>.layer_settings_click\u001b[39m\u001b[34m(b)\u001b[39m\n\u001b[32m   6369\u001b[39m \u001b[38;5;28;01mdef\u001b[39;00m\u001b[38;5;250m \u001b[39m\u001b[34mlayer_settings_click\u001b[39m(b):\n\u001b[32m-> \u001b[39m\u001b[32m6370\u001b[39m     \u001b[38;5;28;01mif\u001b[39;00m b.tooltip \u001b[38;5;129;01min\u001b[39;00m \u001b[43mm\u001b[49m\u001b[43m.\u001b[49m\u001b[43mcog_layer_dict\u001b[49m:\n\u001b[32m   6371\u001b[39m         m._add_layer_editor(\n\u001b[32m   6372\u001b[39m             position=\u001b[33m\"\u001b[39m\u001b[33mtopright\u001b[39m\u001b[33m\"\u001b[39m,\n\u001b[32m   6373\u001b[39m             layer_dict=m.cog_layer_dict[b.tooltip],\n\u001b[32m   6374\u001b[39m         )\n",
      "\u001b[31mAttributeError\u001b[39m: 'Map' object has no attribute 'cog_layer_dict'"
     ]
    }
   ],
   "source": [
    "# let's create a map\n",
    "m = Map(\n",
    "    center=(37, -85.5), \n",
    "    zoom=7,\n",
    "    # width=500, \n",
    "    # height=300\n",
    "    )\n",
    "# display the map by using m or display(m)\n",
    "m"
   ]
  },
  {
   "cell_type": "markdown",
   "id": "524d8a0d",
   "metadata": {},
   "source": [
    "Familiarize yourself with the map and the default widgets on the left.  Take a moment to test drive the ones on the left.  \n",
    "\n",
    "- zoom\n",
    "- fullscreen\n",
    "- polyline\n",
    "- polygon\n",
    "- rectangle\n",
    "- circle\n",
    "- marker\n",
    "- edit\n",
    "- delete\n",
    "\n",
    "When you are done, go to the previous cell and make adjustments to zoom, height, width, or coordinates.  "
   ]
  },
  {
   "cell_type": "markdown",
   "id": "1883674d",
   "metadata": {},
   "source": [
    "Now take a moment to open the toolbox in the top right.  Scroll over each thumbnail to see what's available.  Try them out.  We'll comeback to this later. "
   ]
  },
  {
   "cell_type": "markdown",
   "id": "4b72f530",
   "metadata": {},
   "source": [
    "While we're working on the map.  Let's add a *WMSLayer* of The Commonwealth Basemap."
   ]
  },
  {
   "cell_type": "code",
   "execution_count": 3,
   "id": "0e44c9a0",
   "metadata": {},
   "outputs": [
    {
     "data": {
      "application/vnd.jupyter.widget-view+json": {
       "model_id": "8d09985a70694dc6a10587a146520038",
       "version_major": 2,
       "version_minor": 0
      },
      "text/plain": [
       "Map(center=[37, -85.5], controls=(ZoomControl(options=['position', 'zoom_in_text', 'zoom_in_title', 'zoom_out_…"
      ]
     },
     "execution_count": 3,
     "metadata": {},
     "output_type": "execute_result"
    }
   ],
   "source": [
    "m.add_tile_layer(\n",
    "    url=\"https://kygisserver.ky.gov/arcgis/rest/services/WGS84WM_Services/Ky_TCM_Base_WGS84WM/MapServer/tile/{z}/{y}/{x}\",\n",
    "    name=\"TCM\",\n",
    "    attribution=\"DGI\",\n",
    ")\n",
    "m"
   ]
  },
  {
   "cell_type": "markdown",
   "id": "ee7d6459",
   "metadata": {},
   "source": [
    "___\n",
    "## Get Building Heights"
   ]
  },
  {
   "cell_type": "markdown",
   "id": "bfcc572f",
   "metadata": {},
   "source": [
    "Building heights are an important attribute in a lot of contexts: urban studies, environmental studies, emergency management, economics, and of course, geospatial and remote sensing.\n",
    "\n",
    "Though, using LiDAR to extract building footprints is a fun exercise, many excellent resources already exist.  I like [Overture Maps](https://docs.overturemaps.org/guides/buildings/#14/32.58453/-117.05154/0/60) building datasets. \n",
    "\n",
    "We are going to use overture maps dataset and KyFromAbove LiDAR Pointcloud data to extract building heights.\n",
    "\n",
    "These are the steps we are going to take.\n",
    "\n",
    "1. Find an area of interest\n",
    "2. Get building footprint data\n",
    "3. Search STAC for pointcloud data.\n",
    "4. Create a Height Above Ground Model\\*\n",
    "5. Perform zonal statistics on buildings\n",
    "\n",
    "\n",
    "\\* Using the Height Above Ground model is much more efficient and accurate than using math and dsm/dtm."
   ]
  },
  {
   "cell_type": "markdown",
   "id": "536d3bc2",
   "metadata": {},
   "source": [
    "### Find an AOI\n",
    "\n",
    "To find our area of interest, let's overlay the Phase 3 Pointcloud Tile Grid on the map.\n",
    "\n",
    "- Go to [KyFromAbove Stac-Browser](https://kygeonet.ky.gov/stac)\n",
    "- Click on the *Point Cloud Phase 3 (COPC)* collection.\n",
    "- Find the tile index geopackage in under *Asssets*\n",
    "- Click *Copy URL*\n",
    "- Paste it to your local text file or in your notebook with comments (#)<br><p><img src=\"assets/tileindexlink.png\" width=\"600\" height=\"auto\" /></p>\n",
    "- Add to map"
   ]
  },
  {
   "cell_type": "code",
   "execution_count": 5,
   "id": "e58c9acf",
   "metadata": {},
   "outputs": [
    {
     "data": {
      "application/vnd.jupyter.widget-view+json": {
       "model_id": "8d09985a70694dc6a10587a146520038",
       "version_major": 2,
       "version_minor": 0
      },
      "text/plain": [
       "Map(bottom=6410664.0, center=[39.02565182815265, -84.58444833755495], controls=(ZoomControl(options=['position…"
      ]
     },
     "execution_count": 5,
     "metadata": {},
     "output_type": "execute_result"
    }
   ],
   "source": [
    "# add tile index to map\n",
    "tile_index = \"https://kyfromabove.s3-us-west-2.amazonaws.com/elevation/PointCloud/TileGrids/kyfromabove_phase3_pointcloud_5k_grid.gpkg\"\n",
    "# read with geopandas\n",
    "gdf = gpd.read_file(tile_index)\n",
    "# add to map\n",
    "m.add_gdf(gdf, layer_name=\"Phase 3 Tile Index\")\n",
    "m"
   ]
  },
  {
   "cell_type": "markdown",
   "id": "974e6c3a",
   "metadata": {},
   "source": []
  },
  {
   "cell_type": "code",
   "execution_count": 9,
   "id": "c6e628c9",
   "metadata": {},
   "outputs": [
    {
     "name": "stdout",
     "output_type": "stream",
     "text": [
      "https://kyfromabove.s3.us-west-2.amazonaws.com/elevation/PointCloud/Phase3/N020E295_LAS_Phase3.copc.laz\n"
     ]
    }
   ],
   "source": [
    "# get AWS URL\n",
    "aws_url = input(\"Paste the AWS S3 URL for the KyFromAbove data: \")\n",
    "print(aws_url)"
   ]
  },
  {
   "cell_type": "markdown",
   "id": "c2d19afc",
   "metadata": {},
   "source": [
    "### Use PDAL to create the HAG"
   ]
  },
  {
   "cell_type": "code",
   "execution_count": null,
   "id": "4d77f87e",
   "metadata": {},
   "outputs": [],
   "source": []
  }
 ],
 "metadata": {
  "kernelspec": {
   "display_name": "workshop-env",
   "language": "python",
   "name": "python3"
  },
  "language_info": {
   "codemirror_mode": {
    "name": "ipython",
    "version": 3
   },
   "file_extension": ".py",
   "mimetype": "text/x-python",
   "name": "python",
   "nbconvert_exporter": "python",
   "pygments_lexer": "ipython3",
   "version": "3.12.10"
  }
 },
 "nbformat": 4,
 "nbformat_minor": 5
}
