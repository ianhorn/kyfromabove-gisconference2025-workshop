{
 "cells": [
  {
   "cell_type": "markdown",
   "id": "80421cef",
   "metadata": {},
   "source": [
    "# DGI/KyFromAbove Workshop\n",
    "#### Getting Started\n",
    "\n",
    "September 22, 2025\n",
    "Kentucky GIS Conference\n",
    "Fun Exploration of KyFromAbove with Python and other Tools\n",
    "\n",
    "Let's get started using a notebook.  This will be a simple example just to make sure we have set up the environments."
   ]
  },
  {
   "cell_type": "markdown",
   "id": "c1b7e493",
   "metadata": {},
   "source": [
    "Install python modules/packages/libraries . .  whatever.  Let's make sure our code works."
   ]
  },
  {
   "cell_type": "markdown",
   "id": "1f2c823e",
   "metadata": {},
   "source": [
    "### Some basic code"
   ]
  },
  {
   "cell_type": "code",
   "execution_count": 2,
   "id": "7a250ae9",
   "metadata": {},
   "outputs": [],
   "source": [
    "import boto3                         # AWS Python SDK\n",
    "from botocore import UNSIGNED        # access AWS with credentions, for\n",
    "from botocore.client import Config   # open data only\n",
    "from leafmap import Map              # interactive mapping in Python\n",
    "from IPython.display import display  # display maps in Jupyter Notebooks"
   ]
  },
  {
   "cell_type": "markdown",
   "id": "d030dcad",
   "metadata": {},
   "source": [
    "Let's get ready to build a map.  First, we are going to visit [The Commonwealth Map](https://kygeonet.ky.gov/tcm) to use the coordinate widget to grab center coordinates.\n",
    "\n",
    "<p align=\"center\">\n",
    "    <img src=\"assets/coordinate_widget.png\" width=\"450\" height=\"auto\" />\n",
    "</p>\n",
    "\n",
    "I was able to copy: -84.886 37.917 Degrees.  We can use this to center our map.  \n",
    "\n",
    "Notice the values pasted are in the order of long/lat.  When we go to add the values for the map, make sure to reverse the order so that it is lat/long\n",
    "\n",
    "```juypter\n",
    "m = Map(center=(lat, long, zoom=4, width= , height=))\n",
    "```\n",
    "\n",
    "Fill the values for `center`, `zoom`, and `size`."
   ]
  },
  {
   "cell_type": "code",
   "execution_count": 13,
   "id": "de7f7654",
   "metadata": {},
   "outputs": [
    {
     "data": {
      "application/vnd.jupyter.widget-view+json": {
       "model_id": "ec3364b2ae224bc9aa0eecc293660d22",
       "version_major": 2,
       "version_minor": 0
      },
      "text/plain": [
       "Map(center=[37.5, -85.5], controls=(ZoomControl(options=['position', 'zoom_in_text', 'zoom_in_title', 'zoom_ou…"
      ]
     },
     "execution_count": 13,
     "metadata": {},
     "output_type": "execute_result"
    }
   ],
   "source": [
    "# let's create a map\n",
    "m = Map(\n",
    "    center=(37.5, -85.5), \n",
    "    zoom=7,\n",
    "    # width=500, \n",
    "    # height=300\n",
    "    )\n",
    "# display the map by using m or display(m)\n",
    "m"
   ]
  },
  {
   "cell_type": "markdown",
   "id": "524d8a0d",
   "metadata": {},
   "source": [
    "Familiarize yourself with the map and the default widgets on the left.  Take a moment to test drive the ones on the left.  \n",
    "\n",
    "- zoom\n",
    "- fullscreen\n",
    "- polyline\n",
    "- polygon\n",
    "- rectangle\n",
    "- circle\n",
    "- marker\n",
    "- edit\n",
    "- delete\n",
    "\n",
    "When you are done, go to the previous cell and make adjustments to zoom, height, width, or coordinates.  "
   ]
  },
  {
   "cell_type": "markdown",
   "id": "1883674d",
   "metadata": {},
   "source": [
    "Now take a moment to open the toolbox in the top right.  Scroll over each thumbnail to see what's available.  Try them out.  "
   ]
  },
  {
   "cell_type": "markdown",
   "id": "4b72f530",
   "metadata": {},
   "source": [
    "While we're working on the map.  Let's add a *WMSLayer* of The Commonwealth Basemap."
   ]
  },
  {
   "cell_type": "code",
   "execution_count": 14,
   "id": "0e44c9a0",
   "metadata": {},
   "outputs": [
    {
     "data": {
      "application/vnd.jupyter.widget-view+json": {
       "model_id": "ec3364b2ae224bc9aa0eecc293660d22",
       "version_major": 2,
       "version_minor": 0
      },
      "text/plain": [
       "Map(bottom=12997.0, center=[37.5, -85.5], controls=(ZoomControl(options=['position', 'zoom_in_text', 'zoom_in_…"
      ]
     },
     "execution_count": 14,
     "metadata": {},
     "output_type": "execute_result"
    }
   ],
   "source": [
    "m.add_tile_layer(\n",
    "    url=\"https://kygisserver.ky.gov/arcgis/rest/services/WGS84WM_Services/Ky_TCM_Base_WGS84WM/MapServer/tile/{z}/{y}/{x}\",\n",
    "    name=\"TCM\",\n",
    "    attribution=\"DGI\",\n",
    ")\n",
    "m"
   ]
  }
 ],
 "metadata": {
  "kernelspec": {
   "display_name": "workshop-env",
   "language": "python",
   "name": "python3"
  },
  "language_info": {
   "codemirror_mode": {
    "name": "ipython",
    "version": 3
   },
   "file_extension": ".py",
   "mimetype": "text/x-python",
   "name": "python",
   "nbconvert_exporter": "python",
   "pygments_lexer": "ipython3",
   "version": "3.12.10"
  }
 },
 "nbformat": 4,
 "nbformat_minor": 5
}
