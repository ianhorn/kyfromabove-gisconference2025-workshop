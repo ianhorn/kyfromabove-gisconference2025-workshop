{
 "cells": [
  {
   "cell_type": "markdown",
   "id": "0804aea6",
   "metadata": {},
   "source": [
    "# Optimizing Workflows  \n",
    "\n",
    "Combine Cloud-Optimization into your work flow.  "
   ]
  },
  {
   "cell_type": "code",
   "execution_count": null,
   "id": "f8bcf204",
   "metadata": {},
   "outputs": [],
   "source": [
    "import os\n",
    "import math\n",
    "import json\n",
    "from leafmap import Map\n",
    "from pystac_client import Client\n",
    "from kerchunk.tiff import tiff_to_zarr\n",
    "from concurrent.futures import ThreadPoolExecutor, as_completed\n",
    "from kerchunk.combine import MultiZarrToZarr"
   ]
  },
  {
   "cell_type": "markdown",
   "id": "58707601",
   "metadata": {},
   "source": [
    "<p>\n",
    "    <img src=\"assets/wky.png\" width=\"600\" height=\"auto\" />\n",
    "    <figcaption><strong>Figure 1:</strong> AOI in western Kentucky></figcaptions>\n",
    "</p>"
   ]
  },
  {
   "cell_type": "code",
   "execution_count": null,
   "id": "49665130",
   "metadata": {},
   "outputs": [],
   "source": [
    "m = Map(\n",
    "    center=(37.88929618, -87.89261857), \n",
    "    zoom=11.5\n",
    "    )\n",
    "# display the map\n",
    "m\n",
    "\n",
    "\n",
    "m.add_tile_layer(\n",
    "    url=\"https://kygisserver.ky.gov/arcgis/rest/services/WGS84WM_Services/Ky_TCM_Base_WGS84WM/MapServer/tile/{z}/{y}/{x}\",\n",
    "    name=\"TCM\",\n",
    "    attribution=\"DGI\",\n",
    ")\n",
    "m"
   ]
  },
  {
   "cell_type": "code",
   "execution_count": null,
   "id": "ff00ab24",
   "metadata": {},
   "outputs": [],
   "source": [
    "stac_url = 'https://spved5ihrl.execute-api.us-west-2.amazonaws.com/'\n",
    "client = Client.open(stac_url)\n",
    "bbox = '-87.94624424,37.86107656,-87.84676911,37.92658688'\n",
    "search = client.search(\n",
    "    collections=['dem-phase2'],\n",
    "    bbox=bbox,\n",
    "    limit=300\n",
    ")\n",
    "\n",
    "items = search.get_all_items()"
   ]
  },
  {
   "cell_type": "code",
   "execution_count": null,
   "id": "277537e5",
   "metadata": {},
   "outputs": [],
   "source": [
    "cogs = []\n",
    "for item in items:\n",
    "    for band, asset in item.assets.items():\n",
    "        if asset.media_type == \"image/tiff; application=geotiff; profile=cloud-optimized\":\n",
    "            cogs.append(asset.href)\n",
    "\n",
    "print(f\"Found {len(cogs)} COGs\")\n",
    "for c in cogs[:5]:\n",
    "    print(c)"
   ]
  },
  {
   "cell_type": "code",
   "execution_count": null,
   "id": "42f047fc",
   "metadata": {},
   "outputs": [],
   "source": []
  }
 ],
 "metadata": {
  "kernelspec": {
   "display_name": "workshop-env",
   "language": "python",
   "name": "python3"
  },
  "language_info": {
   "codemirror_mode": {
    "name": "ipython",
    "version": 3
   },
   "file_extension": ".py",
   "mimetype": "text/x-python",
   "name": "python",
   "nbconvert_exporter": "python",
   "pygments_lexer": "ipython3",
   "version": "3.12.10"
  }
 },
 "nbformat": 4,
 "nbformat_minor": 5
}
