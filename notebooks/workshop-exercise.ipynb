{
  "cells": [
    {
      "cell_type": "markdown",
      "metadata": {
        "id": "view-in-github",
        "colab_type": "text"
      },
      "source": [
        "<a href=\"https://colab.research.google.com/github/ianhorn/kyfromabove-gisconference2025-workshop/blob/main/notebooks/workshop-exercise.ipynb\" target=\"_parent\"><img src=\"https://colab.research.google.com/assets/colab-badge.svg\" alt=\"Open In Colab\"/></a>"
      ]
    },
    {
      "cell_type": "markdown",
      "id": "80421cef",
      "metadata": {
        "id": "80421cef"
      },
      "source": [
        "# DGI/KyFromAbove Workshop\n",
        "#### Getting Started\n",
        "\n",
        "September 23, 2025\n",
        "Kentucky GIS Conference\n",
        "Fun Exploration of KyFromAbove with Python and other Tools\n",
        "\n",
        "Let's get started using a notebook.  If you are using MyBinder to run this notebook, the environment is mostly set up already.  You may need to install some packages using `%pip install <module>`"
      ]
    },
    {
      "cell_type": "markdown",
      "id": "1f2c823e",
      "metadata": {
        "id": "1f2c823e"
      },
      "source": [
        "## Some basic code\n",
        "\n",
        "Import python modules/packages/libraries . .  whatever.  Let's make sure our code works."
      ]
    },
    {
      "cell_type": "code",
      "execution_count": null,
      "id": "47e8f69c-0e24-4a48-b624-84eb0dea3a4c",
      "metadata": {
        "id": "47e8f69c-0e24-4a48-b624-84eb0dea3a4c"
      },
      "outputs": [],
      "source": [
        "# !pip install leafmap\n",
        "# !pip install pystac_client\n",
        "# !pip install rasterstats\n",
        "# !pip install trimesh\n",
        "# !pip install jupyter-leaflet"
      ]
    },
    {
      "cell_type": "code",
      "source": [
        "# # Install conda into Colab\n",
        "# !pip install -q condacolab\n",
        "# import condacolab\n",
        "# condacolab.install()\n"
      ],
      "metadata": {
        "id": "fuoCTkLP73kj"
      },
      "id": "fuoCTkLP73kj",
      "execution_count": null,
      "outputs": []
    },
    {
      "cell_type": "code",
      "source": [
        "# !conda install -c conda-forge pdal python-pdal -y"
      ],
      "metadata": {
        "id": "NlU2LG8_84s3"
      },
      "id": "NlU2LG8_84s3",
      "execution_count": null,
      "outputs": []
    },
    {
      "cell_type": "code",
      "execution_count": null,
      "id": "7a250ae9",
      "metadata": {
        "id": "7a250ae9"
      },
      "outputs": [],
      "source": [
        "import os\n",
        "import time\n",
        "from leafmap import Map                # interactive mapping in Python\n",
        "import geopandas as gpd                # working with geospatial data in Python\n",
        "from pystac_client import Client       # STAC API clientimport\n",
        "import pdal                            # lidar processing in Python\n",
        "import json\n",
        "import rasterio                        # raster processing in Python\n",
        "from rasterstats import zonal_stats    # zonal statistics\n",
        "import trimesh                         # 3D mesh processing in Python"
      ]
    },
    {
      "cell_type": "markdown",
      "id": "d030dcad",
      "metadata": {
        "id": "d030dcad"
      },
      "source": [
        "Let's get ready to build a map.  First, we are going to visit [The Commonwealth Map](https://kygeonet.ky.gov/tcm) to use the coordinate widget to grab center coordinates.\n",
        "\n",
        "<p align=\"center\">\n",
        "    <img src=\"https://github.com/ianhorn/kyfromabove-gisconference2025-workshop/blob/main/notebooks/assets/coordinate_widget.png?raw=1\" width=\"450\" height=\"auto\" />\n",
        "    <figcaption><strong>Figure:</strong> Coordinate widget in the lower left corner of the the Commonwealth Basemap app.</figcaption>\n",
        "</p>\n",
        "\n",
        "I was able to copy: -84.886 37.917 Degrees.  We can use this to center our map.  \n",
        "\n",
        "Notice the values pasted are in the order of long/lat.  When we go to add the values for the map, make sure to reverse the order so that it is lat/long\n",
        "\n",
        "```juypter\n",
        "m = Map(center=(lat, long, zoom=4, width= , height=))\n",
        "```\n",
        "\n",
        "Fill the values for `center`, `zoom`, and `size`."
      ]
    },
    {
      "cell_type": "code",
      "execution_count": null,
      "id": "de7f7654",
      "metadata": {
        "id": "de7f7654"
      },
      "outputs": [],
      "source": [
        "# let's create a map\n",
        "m = Map(\n",
        "    center=(37.917, -84.886),\n",
        "    zoom=4\n",
        "    )\n",
        "# display the map\n",
        "m"
      ]
    },
    {
      "cell_type": "markdown",
      "id": "524d8a0d",
      "metadata": {
        "id": "524d8a0d"
      },
      "source": [
        "Familiarize yourself with the map and the default widgets on the left.  Take a moment to test drive the ones on the left.  \n",
        "\n",
        "- zoom\n",
        "- fullscreen\n",
        "- polyline\n",
        "- polygon\n",
        "- rectangle\n",
        "- circle\n",
        "- marker\n",
        "- edit\n",
        "- delete\n",
        "\n",
        "When you are done, go to the previous cell and make adjustments to zoom, height, width, or coordinates.  Try to make Kentucky centered and be in fill the screen."
      ]
    },
    {
      "cell_type": "markdown",
      "id": "1883674d",
      "metadata": {
        "id": "1883674d"
      },
      "source": [
        "Now take a moment to open the toolbox in the top right.  Scroll over each thumbnail to see what's available.  Try them out.  We'll comeback to this later."
      ]
    },
    {
      "cell_type": "markdown",
      "id": "4b72f530",
      "metadata": {
        "id": "4b72f530"
      },
      "source": [
        "While we're working on the map.  Let's add a *WMSLayer* of The Commonwealth Basemap."
      ]
    },
    {
      "cell_type": "code",
      "execution_count": null,
      "id": "0e44c9a0",
      "metadata": {
        "id": "0e44c9a0"
      },
      "outputs": [],
      "source": [
        "m.add_tile_layer(\n",
        "    url=\"https://kygisserver.ky.gov/arcgis/rest/services/WGS84WM_Services/Ky_TCM_Base_WGS84WM/MapServer/tile/{z}/{y}/{x}\",\n",
        "    name=\"TCM\",\n",
        "    attribution=\"DGI\",\n",
        ")\n",
        "m"
      ]
    },
    {
      "cell_type": "markdown",
      "id": "ee7d6459",
      "metadata": {
        "id": "ee7d6459"
      },
      "source": [
        "___\n",
        "## Get Building Heights"
      ]
    },
    {
      "cell_type": "markdown",
      "id": "bfcc572f",
      "metadata": {
        "id": "bfcc572f"
      },
      "source": [
        "Building heights are an important attribute in many contexts: urban studies, environmental studies, emergency management, economics, and of course, geospatial and remote sensing.\n",
        "\n",
        "Although using LiDAR to extract building footprints is a fun exercise, many excellent resources already exist.  I like [Overture Maps's](https://docs.overturemaps.org/guides/buildings/#14/32.58453/-117.05154/0/60) (OM) building datasets.\n",
        "\n",
        "Fortunately, DGI has already processed a recent release of OM's buildings.  We will use that dataset from DGI's Open Data Portal along with KyFromAbove LiDAR Pointcloud data to extract building heights.\n",
        "\n",
        "These are the steps we are going to take.\n",
        "\n",
        "1. Find an area of interest\n",
        "2. Get building footprint data\n",
        "3. Search STAC for pointcloud data\n",
        "4. Create a Height Above Ground Model (HAG)\\*\n",
        "5. Perform zonal statistics on buildings\n",
        "6. Write buildings with height attributes to file\n",
        "\n",
        "\n",
        "\\*Using the Height Above Ground model is much more efficient and accurate than using math and dsm/dtm."
      ]
    },
    {
      "cell_type": "markdown",
      "id": "536d3bc2",
      "metadata": {
        "id": "536d3bc2"
      },
      "source": [
        "### Find an AOI\n",
        "\n",
        "To find our area of interest, let's overlay the Phase 3 Pointcloud Tile Grid on the map.\n",
        "\n",
        "- Go to [KyFromAbove Stac-Browser](https://kygeonet.ky.gov/stac)\n",
        "- Click on the *Point Cloud Phase 3 (COPC)* collection.\n",
        "- Find the tile index geopackage under *Asssets*\n",
        "- Click *Copy URL*\\*\n",
        "- Paste it to your local text file or in your notebook with comments (#)<br><p><img src=\"https://github.com/ianhorn/kyfromabove-gisconference2025-workshop/blob/main/notebooks/assets/tileindexlink.png?raw=1\" width=\"600\" height=\"auto\" /></p>\n",
        "- Add to map\n",
        "\n",
        "\n",
        "\\*FYI, I have pre-saved some links in the repo root directory in [pasted_values.txt](../pasted_values.txt)."
      ]
    },
    {
      "cell_type": "code",
      "execution_count": null,
      "id": "e58c9acf",
      "metadata": {
        "id": "e58c9acf"
      },
      "outputs": [],
      "source": [
        "# add tile index to map\n",
        "tile_index = input(\"Paste Index URL here: \")\n",
        "# read with geopandas\n",
        "gdf = gpd.read_file(tile_index)\n",
        "# add to map\n",
        "m.add_gdf(gdf, layer_name=\"Phase 3 Tile Index\")\n",
        "m"
      ]
    },
    {
      "cell_type": "markdown",
      "id": "3dc9e9ef",
      "metadata": {
        "id": "3dc9e9ef"
      },
      "source": [
        "Zoom to an area around Florence, Kentucky.  As you scroll over the tiles, the info box will show feature id, key, and aws_url.  We need to grab a url to add to the next cell."
      ]
    },
    {
      "cell_type": "code",
      "execution_count": null,
      "id": "c6e628c9",
      "metadata": {
        "id": "c6e628c9"
      },
      "outputs": [],
      "source": [
        "# get AWS URL\n",
        "aws_url = input(\"Paste the AWS S3 URL for the KyFromAbove data: \")\n",
        "print(aws_url)"
      ]
    },
    {
      "cell_type": "markdown",
      "id": "d0db7761",
      "metadata": {
        "id": "d0db7761"
      },
      "source": [
        "#### Get extent values\n",
        "\n",
        "Now that we know the tile and have it's name.  Let's go to the STAC API to grab to extent details.\n",
        "\n",
        "1. Extract the STAC Item ID from the file path"
      ]
    },
    {
      "cell_type": "code",
      "execution_count": null,
      "id": "c287a7f9",
      "metadata": {
        "id": "c287a7f9"
      },
      "outputs": [],
      "source": [
        "# get the item_id\n",
        "tile_basename = os.path.basename(aws_url)    # Separate the path and get the file name\n",
        "item_id = tile_basename.replace(\".laz\", \"\")  # Remove the file extension to get the name\n",
        "item_id                                      # ID to search for"
      ]
    },
    {
      "cell_type": "markdown",
      "id": "092e0687",
      "metadata": {
        "id": "092e0687"
      },
      "source": [
        "2. Use [PySTAC](https://pystac.readthedocs.io/en/stable/) to get info on the Item\n",
        "\n",
        "    - connect to the API *https://spved5ihrl.execute-api.us-west-2.amazonaws.com/*\n",
        "    - get item\n",
        "    - get item info"
      ]
    },
    {
      "cell_type": "code",
      "execution_count": null,
      "id": "8b9b4ec8",
      "metadata": {
        "id": "8b9b4ec8"
      },
      "outputs": [],
      "source": [
        "# stac api url\n",
        "stac_api_url = \"https://spved5ihrl.execute-api.us-west-2.amazonaws.com/\"\n",
        "# open the stac client\n",
        "client = Client.open(stac_api_url)\n",
        "\n",
        "stac_item = item_id\n",
        "\n",
        "# search fo the item\n",
        "results = client.search(ids=[stac_item])\n",
        "results.get_all_items()"
      ]
    },
    {
      "cell_type": "code",
      "execution_count": null,
      "id": "1314116b",
      "metadata": {
        "id": "1314116b"
      },
      "outputs": [],
      "source": [
        "# parse the results to get item bbox\n",
        "for item in results.get_items():\n",
        "    bbox = item.bbox\n",
        "\n",
        "geometry = bbox[0], bbox[1], bbox[2], bbox[3]\n",
        "geometry = str(geometry).replace(\"(\", \"\").replace(\")\", \"\").replace(\" \", \"\")\n",
        "print(geometry)"
      ]
    },
    {
      "cell_type": "markdown",
      "id": "d332e4dd",
      "metadata": {
        "id": "d332e4dd"
      },
      "source": [
        "We will use these bbox values to help us filter buildings."
      ]
    },
    {
      "cell_type": "markdown",
      "id": "377224c1",
      "metadata": {
        "id": "377224c1"
      },
      "source": [
        "___\n",
        "### Get Building Footprints\n",
        "\n",
        "1. Visit the Kentucky [Open Data Portal](https://opengisdata.ky.gov) and search for buildings.  \n",
        "2. Click on *Kentucky Building Footprints - Overture Maps Foundation*.\n",
        "3. At the bottom of the left sidebar, click *I want to use this*.\n",
        "4. Toggle open *View API Resources*.\n",
        "5. Click on *View* for the GeoService\\*.<br><p><img src=\"https://github.com/ianhorn/kyfromabove-gisconference2025-workshop/blob/main/notebooks/assets/api_resources.png?raw=1\" width=\"400\" height=\"auto\" /></p>\n",
        "\n",
        "*Refer to the Rest API [Query](https://developers.arcgis.com/rest/services-reference/enterprise/query-feature-service/) Documentation for the next step."
      ]
    },
    {
      "cell_type": "markdown",
      "id": "f37c28b6",
      "metadata": {
        "id": "f37c28b6"
      },
      "source": [
        "#### Set up a query\n",
        "\n",
        "From step five above, we should now be on the rest service endpoint for the buildings layer.\n",
        "\n",
        "1. Grab the bbox from the code cell above without the brackets *[]*.\n",
        "2. Paste it into the *Input Geometry* on the service end point.\n",
        "3. Use `4326` as the *Input Spatial Reference*.\n",
        "4. Enter the number `6` for *Geometry Precision*.\n",
        "5. Click *Query (GET)*.  Leave as HMTL to see if it works\n",
        "6. Switch format to `GeoJSON`.\n",
        "7. Click Get\n",
        "8. Copy the URL and paste to your text file for use in the next cell."
      ]
    },
    {
      "cell_type": "code",
      "execution_count": null,
      "id": "e2d3f65e",
      "metadata": {
        "id": "e2d3f65e"
      },
      "outputs": [],
      "source": [
        "# get Overture Maps Bulding Footprints\n",
        "buildings_geojson = input(\"Paste the URL for the Overture Maps Building Footprints: \")"
      ]
    },
    {
      "cell_type": "markdown",
      "id": "dc6565c7",
      "metadata": {
        "id": "dc6565c7"
      },
      "source": [
        "Add it to the map"
      ]
    },
    {
      "cell_type": "code",
      "execution_count": null,
      "id": "17bac6c8",
      "metadata": {
        "id": "17bac6c8"
      },
      "outputs": [],
      "source": [
        "m.add_geojson(buildings_geojson, layer_name=\"Building Footprints\",\n",
        "              style={\"fillColor\": \"yellow\", \"color\": \"orange\", \"weight\": 1, \"fillOpacity\": 0.5})\n",
        "m"
      ]
    },
    {
      "cell_type": "markdown",
      "id": "1b80d39f",
      "metadata": {
        "id": "1b80d39f"
      },
      "source": [
        "#### Clean up the map\n",
        "\n",
        "The map has a few too many layers from trial and error.  Let's clean that up."
      ]
    },
    {
      "cell_type": "code",
      "execution_count": null,
      "id": "7466f33d",
      "metadata": {
        "id": "7466f33d"
      },
      "outputs": [],
      "source": [
        "# Insert values for map cen\n",
        "m_clean = Map(\n",
        "    center=(37.5, -85.9),\n",
        "    zoom=8)\n",
        "\n",
        "m_clean.add_tile_layer(\n",
        "    url=\"https://kygisserver.ky.gov/arcgis/rest/services/WGS84WM_Services/Ky_TCM_Base_WGS84WM/MapServer/tile/{z}/{y}/{x}\",\n",
        "    name=\"TCM\",\n",
        "    attribution=\"DGI\",)\n",
        "m_clean.add_geojson(buildings_geojson, layer_name=\"Building Footprints\",\n",
        "              style={\"fillColor\": \"yellow\", \"color\": \"orange\", \"weight\": 1, \"fillOpacity\": 0.5})\n"
      ]
    },
    {
      "cell_type": "code",
      "execution_count": null,
      "id": "19ed7a1e",
      "metadata": {
        "id": "19ed7a1e"
      },
      "outputs": [],
      "source": [
        "# display the map\n",
        "m_clean"
      ]
    },
    {
      "cell_type": "markdown",
      "id": "ae564b73",
      "metadata": {
        "id": "ae564b73"
      },
      "source": [
        "### Review\n",
        "\n",
        "What have we done up to now?\n",
        "\n",
        "1. Created an Interactive Map\n",
        "2. Added The Commonwealth Basemap\n",
        "3. Added Phase3 Pointcloud Tiles\n",
        "4. Added Buildings for AOI"
      ]
    },
    {
      "cell_type": "markdown",
      "id": "ea6ec935",
      "metadata": {
        "id": "ea6ec935"
      },
      "source": [
        "___\n",
        "### Get Building Heights\n",
        "\n",
        "In order to GET our building heights, we need to process our laz file so that we can add height values to the building footprints.\n",
        "\n",
        "This next step is a redundancy.  We're just doing it to set our variable in one spot."
      ]
    },
    {
      "cell_type": "code",
      "execution_count": null,
      "id": "3c21c9b5",
      "metadata": {
        "id": "3c21c9b5"
      },
      "outputs": [],
      "source": [
        "# declare variables\n",
        "buildings = buildings_geojson\n",
        "tile_url = aws_url\n",
        "\n",
        "# create an output folder if one doesn't exist\n",
        "if not os.path.exists('output'):\n",
        "    os.mkdir('output')"
      ]
    },
    {
      "cell_type": "markdown",
      "id": "f5c685a0",
      "metadata": {
        "id": "f5c685a0"
      },
      "source": [
        "[PDAL](https://pdal.io/en/2.8.4/)\\* - *Point Data Abstraction Data Library*\n",
        "\n",
        ">PDAL is C++ libary to translate and manipulate point cloud data.\n",
        "\n",
        "It also provides [Python](https://pdal.io/en/2.8.4/python.html) support.  For the purposes of this exercise, all the information we need is in the *Concepts* (we don't need to know about Java).\n",
        "\n",
        "<p><img src=\"https://github.com/ianhorn/kyfromabove-gisconference2025-workshop/blob/main/notebooks/assets/pdal_concepts.png?raw=1\" width=\"300\" height=\"auto\" /><p>  \n",
        "\n",
        "Take a moment to briefly review tthe concepts\n",
        "\n",
        "\\*For this exercise, I am using PDAL v2.8.4"
      ]
    },
    {
      "cell_type": "markdown",
      "id": "4aaef6ff",
      "metadata": {
        "id": "4aaef6ff"
      },
      "source": [
        "#### Surface Models and stuff\n",
        "\n",
        "To streamline processing, we are going to set up a pipeline using the concepts reviewed above.\n",
        "\n",
        "<p align=\"center\">\n",
        "    <img src=\"https://github.com/ianhorn/kyfromabove-gisconference2025-workshop/blob/main/notebooks/assets/pipeline.png?raw=1\" width=\"400\" height=\"auto\" />\n",
        "    <figcaption><strong>Figure:</strong> Representation of a PDAL Pipeline.</figcaption>\n",
        "</p>\n",
        "\n",
        "In order to get building heights, we need to get surface heights.  Traditionally, people will create a bare earth Digital Terrain Model (DEM/DTM), a Digital Surface Model (DSM), and then perform some raster math to get the *normalized Digital Surface Model* (nDSM)\n",
        "$$\n",
        "\\text{nDSM} = \\text{DTM} - \\text{DSM}\n",
        "$$\n",
        "\n",
        "This would mean we would have to create a new file for the DEM/DTM, a new file for the DSM, then perform some raster math create a file for the nDSM.  That's a lot of filters, files, processing, etc.  And frankly, I don't want to do that.  \n",
        "\n",
        "Instead, I like to create one pipeline, read one file, pass it through a series of filters, and export a file with surface height values.  This is call the *Height Above Ground*, or HAG for short."
      ]
    },
    {
      "cell_type": "markdown",
      "id": "848ad515",
      "metadata": {
        "id": "848ad515"
      },
      "source": [
        "\n",
        "#### Build a Pipeline\n",
        "\n",
        "Before we run our pipeline, I'm going to walk you through what we're going to do with PDAL.\n",
        "\n",
        "1. Read the Point Cloud File - Remember, it's a COPC  \n",
        "2. Filter to points for first return\n",
        "3. Use the HAG filter\n",
        "4. It's not enough to just create the HAG filter, we need to carry the values with us.\n",
        "5.  Save the HAG to file with the *maximum* value.\n",
        "\n",
        "```python\n",
        "    {\n",
        "        \"type\":\"readers.copc\",\n",
        "        \"filename\":f'{tile_url}'\n",
        "    },\n",
        "    {\n",
        "        \"type\":\"filters.expression\",\n",
        "        \"expression\":\"ReturnNumber == 1 || ReturnNumber == 1\"        \n",
        "    },\n",
        "    {\n",
        "        \"type\":\"filters.hag_delaunay\",\n",
        "        \"allow_extrapolation\":True\n",
        "    },\n",
        "    {\n",
        "        \"type\":\"filters.ferry\",\n",
        "        \"dimensions\":\"HeightAboveGround=>Z\"\n",
        "    },\n",
        "    {\n",
        "        \"type\":\"writers.gdal\",\n",
        "        \"filename\":\"output/hag.tif\",\n",
        "        \"resolution\":2,\n",
        "        \"output_type\":\"max\",\n",
        "        \"gdalopts\":[\n",
        "            \"COMPRESS=LZW\",\n",
        "            \"TILED=YES\",\n",
        "            \"BLOCKYSIZE=256\",\n",
        "            \"BLOCKYSIZE=256\"\n",
        "        ]\n",
        "    }\n",
        "```\n",
        "\n",
        "The result is one pipeline, one input, and one output.  Feel free to paste values into the next cell."
      ]
    },
    {
      "cell_type": "code",
      "execution_count": null,
      "id": "50a64105",
      "metadata": {
        "id": "50a64105"
      },
      "outputs": [],
      "source": [
        "# create a pdal pipeline\n",
        "# paste the above values between the brackets\n",
        "\n",
        "pipeline_json = [\n",
        "    {\n",
        "        \"type\":\"readers.copc\",\n",
        "        \"filename\":f'{tile_url}'\n",
        "    },\n",
        "    {\n",
        "        \"type\":\"filters.expression\",\n",
        "        \"expression\":\"ReturnNumber == 1 || ReturnNumber == 1\"\n",
        "    },\n",
        "    {\n",
        "        \"type\":\"filters.hag_delaunay\",\n",
        "        \"allow_extrapolation\":True\n",
        "    },\n",
        "    {\n",
        "        \"type\":\"filters.ferry\",\n",
        "        \"dimensions\":\"HeightAboveGround=>Z\"\n",
        "    },\n",
        "    {\n",
        "        \"type\":\"writers.gdal\",\n",
        "        \"filename\":\"output/hag.tif\",\n",
        "        \"resolution\":2,\n",
        "        \"output_type\":\"max\",\n",
        "        \"gdalopts\":[\n",
        "            \"COMPRESS=LZW\",\n",
        "            \"TILED=YES\",\n",
        "            \"BLOCKYSIZE=256\",\n",
        "            \"BLOCKYSIZE=256\"\n",
        "        ]\n",
        "    }\n",
        "]\n",
        "print(json.dumps(pipeline_json, indent=2))"
      ]
    },
    {
      "cell_type": "code",
      "execution_count": null,
      "id": "4792a60a",
      "metadata": {
        "id": "4792a60a"
      },
      "outputs": [],
      "source": [
        "# Add a timer\n",
        "# Start timer\n",
        "start = time.time()\n",
        "\n",
        "# Process the pipeline\n",
        "pipeline = pdal.Pipeline(json.dumps(pipeline_json))\n",
        "count = pipeline.execute()\n",
        "arrays = pipeline.arrays\n",
        "print(f\"Processed {count} points.\")\n",
        "\n",
        "# create variable to the hag file\n",
        "hag_file = \"output/hag.tif\"\n",
        "\n",
        "# End timer\n",
        "end = time.time()\n",
        "print(f\"Execution time: {end - start:.2f} seconds\")"
      ]
    },
    {
      "cell_type": "code",
      "execution_count": null,
      "id": "042e1359",
      "metadata": {
        "id": "042e1359"
      },
      "outputs": [],
      "source": [
        "# Check it in a map\n",
        "m_clean.add_raster(hag_file, layer_name=\"Height Above Ground (Feet)\", colormap=\"terrain\")\n",
        "m_clean"
      ]
    },
    {
      "cell_type": "markdown",
      "id": "35a1135c",
      "metadata": {
        "id": "35a1135c"
      },
      "source": [
        "#### Zonal Statistics\n",
        "\n",
        "We've successfully created HAG model file.  Now we can use zonal statistics to create the building height attributes.  For this, you can refer to the [rasterstats](https://pythonhosted.org/rasterstats/index.html) documentation."
      ]
    },
    {
      "cell_type": "markdown",
      "id": "99227b4c",
      "metadata": {
        "id": "99227b4c"
      },
      "source": [
        "##### Housekeeping\n",
        "If you recall, we've pulled building footprints using WGS84 and the HAG file is projected in its original Kentucky Single Zone: *EPSG:3089*.  This won't work for processing.  We will have to get the CRS value of one, and assign it to the other.  Since our tif is in EPSG:3089 and we are concerned with Kentucky values, we'll assign single zone to the buildings."
      ]
    },
    {
      "cell_type": "code",
      "execution_count": null,
      "id": "3b5816ed",
      "metadata": {
        "id": "3b5816ed"
      },
      "outputs": [],
      "source": [
        "# Use python to get the hag file crs.\n",
        "# This way, we know that CRSs are the same.\n",
        "# Rasterio is a good tool for this.\n",
        "with rasterio.open(hag_file) as src:\n",
        "    src_crs = src.crs\n",
        "\n",
        "src_crs"
      ]
    },
    {
      "cell_type": "code",
      "execution_count": null,
      "id": "2f367dd3",
      "metadata": {
        "id": "2f367dd3"
      },
      "outputs": [],
      "source": [
        "# read building file with Geopandas\n",
        "buildings = gpd.read_file(buildings_geojson)\n",
        "buildings = buildings.to_crs(src_crs)\n",
        "\n",
        "# assign values to to buildings\n",
        "stats = zonal_stats(buildings, hag_file, stats=\"min max mean median std\")\n",
        "stats[:5]  # print the first five"
      ]
    },
    {
      "cell_type": "markdown",
      "id": "111cbcb3",
      "metadata": {
        "id": "111cbcb3"
      },
      "source": [
        "This looks good.  We have the values for building heights.  Time to save it to file.\n",
        "\n",
        "- add height attributes to the buildings geodataframe.\n",
        "- save to your preferred vector format"
      ]
    },
    {
      "cell_type": "code",
      "execution_count": null,
      "id": "0ebb581c",
      "metadata": {
        "id": "0ebb581c"
      },
      "outputs": [],
      "source": [
        "# assign stat fields to buildings\n",
        "buildings[\"hag_min\"] = [s[\"min\"] for s in stats]\n",
        "buildings[\"hag_max\"] = [s[\"max\"] for s in stats]\n",
        "buildings[\"hag_mean\"] = [s[\"mean\"] for s in stats]\n",
        "buildings[\"hag_median\"] = [s[\"median\"] for s in stats]\n",
        "buildings[\"hag_std\"] = [s[\"std\"] for s in stats]\n",
        "\n",
        "# Save updated GeoJSON or GPKG\n",
        "buildings.to_file(\"output/buildings_with_hag.gpkg\", driver=\"GPKG\")\n",
        "buildings.to_file(\"output/buildings_with_hag.json\", driver=\"GeoJSON\")"
      ]
    },
    {
      "cell_type": "markdown",
      "id": "f0e747ff",
      "metadata": {
        "id": "f0e747ff"
      },
      "source": [
        "# Congratulations!\n",
        "\n",
        "You have completed this exercise.  We have taken building footprints, a pointcloud file in the cloud, and ran it through a few processes to add height attributes to builings.  \n",
        "\n",
        "Logically, the next step would be to create a 3D Builing layer from our 2D buildings with heights, but I'd rather focus the rest of the time helping you with any questions you have."
      ]
    },
    {
      "cell_type": "markdown",
      "id": "2f0526af",
      "metadata": {
        "id": "2f0526af"
      },
      "source": [
        "### Bonus\n",
        "\n",
        "Convert to 3d"
      ]
    },
    {
      "cell_type": "code",
      "execution_count": null,
      "id": "aab20880",
      "metadata": {
        "id": "aab20880"
      },
      "outputs": [],
      "source": [
        "# read buildings from last output\n",
        "gdf = gpd.read_file(\"output/buildings_with_hag.gpkg\")\n",
        "\n",
        "# extrude\n",
        "meshes = []\n",
        "for _, row in gdf.iterrows():\n",
        "    h = row[\"hag_max\"]\n",
        "    footprint = row.geometry\n",
        "\n",
        "    # Convert polygon exterior to 3D (Z=0)\n",
        "    base_coords = [(x, y, 0) for x, y in footprint.exterior.coords]\n",
        "    roof_coords = [(x, y, h) for x, y in footprint.exterior.coords]\n",
        "\n",
        "    # Stack base and roof into a prism\n",
        "    prism = trimesh.creation.extrude_polygon(footprint, h)\n",
        "    meshes.append(prism)\n",
        "\n",
        "scene = trimesh.Scene(meshes)\n",
        "scene.show()"
      ]
    }
  ],
  "metadata": {
    "kernelspec": {
      "display_name": "workshop-env",
      "language": "python",
      "name": "python3"
    },
    "language_info": {
      "codemirror_mode": {
        "name": "ipython",
        "version": 3
      },
      "file_extension": ".py",
      "mimetype": "text/x-python",
      "name": "python",
      "nbconvert_exporter": "python",
      "pygments_lexer": "ipython3",
      "version": "3.12.10"
    },
    "colab": {
      "provenance": [],
      "include_colab_link": true
    }
  },
  "nbformat": 4,
  "nbformat_minor": 5
}