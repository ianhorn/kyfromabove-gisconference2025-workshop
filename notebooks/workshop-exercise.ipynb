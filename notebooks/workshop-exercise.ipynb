{
  "cells": [
    {
      "cell_type": "markdown",
      "id": "80421cef",
      "metadata": {
        "id": "80421cef"
      },
      "source": [
        "# DGI/KyFromAbove Workshop\n",
        "#### Getting Started\n",
        "\n",
        "September 23, 2025\n",
        "Kentucky GIS Conference\n",
        "Fun Exploration of KyFromAbove with Python and other Tools\n",
        "\n",
        "Let's get started using a notebook.  If you are using MyBinder to run this notebook, the environment is mostly set up already.  You may need to install some packages using `%pip install <module>`"
      ]
    },
    {
      "cell_type": "markdown",
      "id": "1f2c823e",
      "metadata": {
        "id": "1f2c823e"
      },
      "source": [
        "## Some basic code\n",
        "\n",
        "Import python modules/packages/libraries . .  whatever.  Let's make sure our code works."
      ]
    },
    {
      "cell_type": "code",
      "execution_count": 2,
      "id": "47e8f69c-0e24-4a48-b624-84eb0dea3a4c",
      "metadata": {
        "colab": {
          "base_uri": "https://localhost:8080/",
          "height": 1000
        },
        "id": "47e8f69c-0e24-4a48-b624-84eb0dea3a4c",
        "outputId": "de8f091c-6e85-4ec6-eb49-102cc2a2692d"
      },
      "outputs": [
        {
          "output_type": "stream",
          "name": "stdout",
          "text": [
            "Collecting leafmap\n",
            "  Using cached leafmap-0.52.3-py2.py3-none-any.whl.metadata (16 kB)\n",
            "Collecting anywidget (from leafmap)\n",
            "  Downloading anywidget-0.9.18-py3-none-any.whl.metadata (8.9 kB)\n",
            "Collecting bqplot (from leafmap)\n",
            "  Downloading bqplot-0.12.45-py2.py3-none-any.whl.metadata (6.4 kB)\n",
            "Collecting duckdb (from leafmap)\n",
            "  Downloading duckdb-1.4.0-cp311-cp311-manylinux_2_27_x86_64.manylinux_2_28_x86_64.whl.metadata (14 kB)\n",
            "Collecting folium (from leafmap)\n",
            "  Downloading folium-0.20.0-py2.py3-none-any.whl.metadata (4.2 kB)\n",
            "Collecting gdown (from leafmap)\n",
            "  Downloading gdown-5.2.0-py3-none-any.whl.metadata (5.8 kB)\n",
            "Collecting geojson (from leafmap)\n",
            "  Using cached geojson-3.2.0-py3-none-any.whl.metadata (16 kB)\n",
            "Collecting geopandas (from leafmap)\n",
            "  Downloading geopandas-1.1.1-py3-none-any.whl.metadata (2.3 kB)\n",
            "Collecting ipyevents (from leafmap)\n",
            "  Downloading ipyevents-2.0.4-py3-none-any.whl.metadata (3.0 kB)\n",
            "Collecting ipyfilechooser (from leafmap)\n",
            "  Downloading ipyfilechooser-0.6.0-py3-none-any.whl.metadata (6.4 kB)\n",
            "Collecting ipyleaflet (from leafmap)\n",
            "  Downloading ipyleaflet-0.20.0-py3-none-any.whl.metadata (5.3 kB)\n",
            "Collecting ipyvuetify (from leafmap)\n",
            "  Using cached ipyvuetify-1.11.3-py2.py3-none-any.whl.metadata (7.5 kB)\n",
            "Collecting ipywidgets (from leafmap)\n",
            "  Downloading ipywidgets-8.1.7-py3-none-any.whl.metadata (2.4 kB)\n",
            "Collecting maplibre (from leafmap)\n",
            "  Using cached maplibre-0.3.5-py3-none-any.whl.metadata (4.0 kB)\n",
            "Collecting matplotlib (from leafmap)\n",
            "  Downloading matplotlib-3.10.6-cp311-cp311-manylinux2014_x86_64.manylinux_2_17_x86_64.whl.metadata (11 kB)\n",
            "Requirement already satisfied: numpy in /usr/local/lib/python3.11/site-packages (from leafmap) (2.3.3)\n",
            "Collecting pandas (from leafmap)\n",
            "  Downloading pandas-2.3.2-cp311-cp311-manylinux_2_17_x86_64.manylinux2014_x86_64.whl.metadata (91 kB)\n",
            "Collecting plotly (from leafmap)\n",
            "  Downloading plotly-6.3.0-py3-none-any.whl.metadata (8.5 kB)\n",
            "Collecting pystac-client (from leafmap)\n",
            "  Using cached pystac_client-0.9.0-py3-none-any.whl.metadata (3.1 kB)\n",
            "Collecting python-box (from leafmap)\n",
            "  Downloading python_box-7.3.2-cp311-cp311-manylinux_2_17_x86_64.manylinux2014_x86_64.whl.metadata (7.8 kB)\n",
            "Collecting scooby (from leafmap)\n",
            "  Downloading scooby-0.10.2-py3-none-any.whl.metadata (15 kB)\n",
            "Collecting whiteboxgui (from leafmap)\n",
            "  Using cached whiteboxgui-2.3.0-py2.py3-none-any.whl.metadata (5.7 kB)\n",
            "Collecting xyzservices (from leafmap)\n",
            "  Downloading xyzservices-2025.4.0-py3-none-any.whl.metadata (4.3 kB)\n",
            "Collecting psygnal>=0.8.1 (from anywidget->leafmap)\n",
            "  Downloading psygnal-0.14.1-cp311-cp311-manylinux2014_x86_64.manylinux_2_17_x86_64.manylinux_2_28_x86_64.whl.metadata (6.0 kB)\n",
            "Collecting typing-extensions>=4.2.0 (from anywidget->leafmap)\n",
            "  Downloading typing_extensions-4.15.0-py3-none-any.whl.metadata (3.3 kB)\n",
            "Collecting comm>=0.1.3 (from ipywidgets->leafmap)\n",
            "  Downloading comm-0.2.3-py3-none-any.whl.metadata (3.7 kB)\n",
            "Collecting ipython>=6.1.0 (from ipywidgets->leafmap)\n",
            "  Downloading ipython-9.5.0-py3-none-any.whl.metadata (4.4 kB)\n",
            "Collecting traitlets>=4.3.1 (from ipywidgets->leafmap)\n",
            "  Downloading traitlets-5.14.3-py3-none-any.whl.metadata (10 kB)\n",
            "Collecting widgetsnbextension~=4.0.14 (from ipywidgets->leafmap)\n",
            "  Downloading widgetsnbextension-4.0.14-py3-none-any.whl.metadata (1.6 kB)\n",
            "Collecting jupyterlab_widgets~=3.0.15 (from ipywidgets->leafmap)\n",
            "  Downloading jupyterlab_widgets-3.0.15-py3-none-any.whl.metadata (20 kB)\n",
            "Collecting traittypes>=0.0.6 (from bqplot->leafmap)\n",
            "  Downloading traittypes-0.2.1-py2.py3-none-any.whl.metadata (1.0 kB)\n",
            "Collecting python-dateutil>=2.8.2 (from pandas->leafmap)\n",
            "  Downloading python_dateutil-2.9.0.post0-py2.py3-none-any.whl.metadata (8.4 kB)\n",
            "Collecting pytz>=2020.1 (from pandas->leafmap)\n",
            "  Downloading pytz-2025.2-py2.py3-none-any.whl.metadata (22 kB)\n",
            "Collecting tzdata>=2022.7 (from pandas->leafmap)\n",
            "  Downloading tzdata-2025.2-py2.py3-none-any.whl.metadata (1.4 kB)\n",
            "Collecting branca>=0.6.0 (from folium->leafmap)\n",
            "  Downloading branca-0.8.1-py3-none-any.whl.metadata (1.5 kB)\n",
            "Collecting jinja2>=2.9 (from folium->leafmap)\n",
            "  Downloading jinja2-3.1.6-py3-none-any.whl.metadata (2.9 kB)\n",
            "Requirement already satisfied: requests in /usr/local/lib/python3.11/site-packages (from folium->leafmap) (2.32.3)\n",
            "Collecting beautifulsoup4 (from gdown->leafmap)\n",
            "  Downloading beautifulsoup4-4.13.5-py3-none-any.whl.metadata (3.8 kB)\n",
            "Collecting filelock (from gdown->leafmap)\n",
            "  Downloading filelock-3.19.1-py3-none-any.whl.metadata (2.1 kB)\n",
            "Requirement already satisfied: tqdm in /usr/local/lib/python3.11/site-packages (from gdown->leafmap) (4.67.1)\n",
            "Collecting pyogrio>=0.7.2 (from geopandas->leafmap)\n",
            "  Downloading pyogrio-0.11.1-cp311-cp311-manylinux_2_28_x86_64.whl.metadata (5.3 kB)\n",
            "Requirement already satisfied: packaging in /usr/local/lib/python3.11/site-packages (from geopandas->leafmap) (24.2)\n",
            "Collecting pyproj>=3.5.0 (from geopandas->leafmap)\n",
            "  Downloading pyproj-3.7.2-cp311-cp311-manylinux_2_28_x86_64.whl.metadata (31 kB)\n",
            "Collecting shapely>=2.0.0 (from geopandas->leafmap)\n",
            "  Downloading shapely-2.1.1-cp311-cp311-manylinux_2_17_x86_64.manylinux2014_x86_64.whl.metadata (6.7 kB)\n",
            "Collecting jupyter-leaflet<0.21,>=0.20 (from ipyleaflet->leafmap)\n",
            "  Downloading jupyter_leaflet-0.20.0-py3-none-any.whl.metadata (2.4 kB)\n",
            "Collecting ipyvue<2,>=1.7 (from ipyvuetify->leafmap)\n",
            "  Using cached ipyvue-1.11.3-py2.py3-none-any.whl.metadata (987 bytes)\n",
            "Collecting eval-type-backport (from maplibre->leafmap)\n",
            "  Using cached eval_type_backport-0.2.2-py3-none-any.whl.metadata (2.2 kB)\n",
            "Collecting pydantic>=2.5.3 (from maplibre->leafmap)\n",
            "  Downloading pydantic-2.11.9-py3-none-any.whl.metadata (68 kB)\n",
            "Collecting contourpy>=1.0.1 (from matplotlib->leafmap)\n",
            "  Downloading contourpy-1.3.3-cp311-cp311-manylinux_2_27_x86_64.manylinux_2_28_x86_64.whl.metadata (5.5 kB)\n",
            "Collecting cycler>=0.10 (from matplotlib->leafmap)\n",
            "  Downloading cycler-0.12.1-py3-none-any.whl.metadata (3.8 kB)\n",
            "Collecting fonttools>=4.22.0 (from matplotlib->leafmap)\n",
            "  Downloading fonttools-4.60.0-cp311-cp311-manylinux2014_x86_64.manylinux_2_17_x86_64.whl.metadata (111 kB)\n",
            "Collecting kiwisolver>=1.3.1 (from matplotlib->leafmap)\n",
            "  Downloading kiwisolver-1.4.9-cp311-cp311-manylinux2014_x86_64.manylinux_2_17_x86_64.whl.metadata (6.3 kB)\n",
            "Collecting pillow>=8 (from matplotlib->leafmap)\n",
            "  Downloading pillow-11.3.0-cp311-cp311-manylinux_2_27_x86_64.manylinux_2_28_x86_64.whl.metadata (9.0 kB)\n",
            "Collecting pyparsing>=2.3.1 (from matplotlib->leafmap)\n",
            "  Downloading pyparsing-3.2.5-py3-none-any.whl.metadata (5.0 kB)\n",
            "Collecting narwhals>=1.15.1 (from plotly->leafmap)\n",
            "  Downloading narwhals-2.5.0-py3-none-any.whl.metadata (11 kB)\n",
            "Collecting pystac>=1.10.0 (from pystac[validation]>=1.10.0->pystac-client->leafmap)\n",
            "  Using cached pystac-1.14.1-py3-none-any.whl.metadata (4.7 kB)\n",
            "Collecting ipytree (from whiteboxgui->leafmap)\n",
            "  Downloading ipytree-0.2.2-py2.py3-none-any.whl.metadata (849 bytes)\n",
            "Collecting whitebox (from whiteboxgui->leafmap)\n",
            "  Using cached whitebox-2.3.6-py2.py3-none-any.whl.metadata (11 kB)\n",
            "Collecting decorator (from ipython>=6.1.0->ipywidgets->leafmap)\n",
            "  Downloading decorator-5.2.1-py3-none-any.whl.metadata (3.9 kB)\n",
            "Collecting ipython-pygments-lexers (from ipython>=6.1.0->ipywidgets->leafmap)\n",
            "  Downloading ipython_pygments_lexers-1.1.1-py3-none-any.whl.metadata (1.1 kB)\n",
            "Collecting jedi>=0.16 (from ipython>=6.1.0->ipywidgets->leafmap)\n",
            "  Using cached jedi-0.19.2-py2.py3-none-any.whl.metadata (22 kB)\n",
            "Collecting matplotlib-inline (from ipython>=6.1.0->ipywidgets->leafmap)\n",
            "  Downloading matplotlib_inline-0.1.7-py3-none-any.whl.metadata (3.9 kB)\n",
            "Collecting pexpect>4.3 (from ipython>=6.1.0->ipywidgets->leafmap)\n",
            "  Downloading pexpect-4.9.0-py2.py3-none-any.whl.metadata (2.5 kB)\n",
            "Collecting prompt_toolkit<3.1.0,>=3.0.41 (from ipython>=6.1.0->ipywidgets->leafmap)\n",
            "  Downloading prompt_toolkit-3.0.52-py3-none-any.whl.metadata (6.4 kB)\n",
            "Collecting pygments>=2.4.0 (from ipython>=6.1.0->ipywidgets->leafmap)\n",
            "  Using cached pygments-2.19.2-py3-none-any.whl.metadata (2.5 kB)\n",
            "Collecting stack_data (from ipython>=6.1.0->ipywidgets->leafmap)\n",
            "  Downloading stack_data-0.6.3-py3-none-any.whl.metadata (18 kB)\n",
            "Collecting MarkupSafe>=2.0 (from jinja2>=2.9->folium->leafmap)\n",
            "  Downloading MarkupSafe-3.0.2-cp311-cp311-manylinux_2_17_x86_64.manylinux2014_x86_64.whl.metadata (4.0 kB)\n",
            "Collecting annotated-types>=0.6.0 (from pydantic>=2.5.3->maplibre->leafmap)\n",
            "  Downloading annotated_types-0.7.0-py3-none-any.whl.metadata (15 kB)\n",
            "Collecting pydantic-core==2.33.2 (from pydantic>=2.5.3->maplibre->leafmap)\n",
            "  Downloading pydantic_core-2.33.2-cp311-cp311-manylinux_2_17_x86_64.manylinux2014_x86_64.whl.metadata (6.8 kB)\n",
            "Collecting typing-inspection>=0.4.0 (from pydantic>=2.5.3->maplibre->leafmap)\n",
            "  Downloading typing_inspection-0.4.1-py3-none-any.whl.metadata (2.6 kB)\n",
            "Requirement already satisfied: certifi in /usr/local/lib/python3.11/site-packages (from pyogrio>=0.7.2->geopandas->leafmap) (2025.8.3)\n",
            "Collecting jsonschema~=4.18 (from pystac[validation]>=1.10.0->pystac-client->leafmap)\n",
            "  Downloading jsonschema-4.25.1-py3-none-any.whl.metadata (7.6 kB)\n",
            "Collecting six>=1.5 (from python-dateutil>=2.8.2->pandas->leafmap)\n",
            "  Downloading six-1.17.0-py2.py3-none-any.whl.metadata (1.7 kB)\n",
            "Requirement already satisfied: charset_normalizer<4,>=2 in /usr/local/lib/python3.11/site-packages (from requests->folium->leafmap) (3.4.1)\n",
            "Requirement already satisfied: idna<4,>=2.5 in /usr/local/lib/python3.11/site-packages (from requests->folium->leafmap) (3.10)\n",
            "Requirement already satisfied: urllib3<3,>=1.21.1 in /usr/local/lib/python3.11/site-packages (from requests->folium->leafmap) (2.3.0)\n",
            "Collecting soupsieve>1.2 (from beautifulsoup4->gdown->leafmap)\n",
            "  Downloading soupsieve-2.8-py3-none-any.whl.metadata (4.6 kB)\n",
            "Requirement already satisfied: PySocks!=1.5.7,>=1.5.6 in /usr/local/lib/python3.11/site-packages (from requests[socks]->gdown->leafmap) (1.7.1)\n",
            "Collecting Click>=6.0 (from whitebox->whiteboxgui->leafmap)\n",
            "  Downloading click-8.3.0-py3-none-any.whl.metadata (2.6 kB)\n",
            "Collecting parso<0.9.0,>=0.8.4 (from jedi>=0.16->ipython>=6.1.0->ipywidgets->leafmap)\n",
            "  Downloading parso-0.8.5-py2.py3-none-any.whl.metadata (8.3 kB)\n",
            "Collecting attrs>=22.2.0 (from jsonschema~=4.18->pystac[validation]>=1.10.0->pystac-client->leafmap)\n",
            "  Downloading attrs-25.3.0-py3-none-any.whl.metadata (10 kB)\n",
            "Collecting jsonschema-specifications>=2023.03.6 (from jsonschema~=4.18->pystac[validation]>=1.10.0->pystac-client->leafmap)\n",
            "  Downloading jsonschema_specifications-2025.9.1-py3-none-any.whl.metadata (2.9 kB)\n",
            "Collecting referencing>=0.28.4 (from jsonschema~=4.18->pystac[validation]>=1.10.0->pystac-client->leafmap)\n",
            "  Downloading referencing-0.36.2-py3-none-any.whl.metadata (2.8 kB)\n",
            "Collecting rpds-py>=0.7.1 (from jsonschema~=4.18->pystac[validation]>=1.10.0->pystac-client->leafmap)\n",
            "  Downloading rpds_py-0.27.1-cp311-cp311-manylinux_2_17_x86_64.manylinux2014_x86_64.whl.metadata (4.2 kB)\n",
            "Collecting ptyprocess>=0.5 (from pexpect>4.3->ipython>=6.1.0->ipywidgets->leafmap)\n",
            "  Downloading ptyprocess-0.7.0-py2.py3-none-any.whl.metadata (1.3 kB)\n",
            "Collecting wcwidth (from prompt_toolkit<3.1.0,>=3.0.41->ipython>=6.1.0->ipywidgets->leafmap)\n",
            "  Downloading wcwidth-0.2.14-py2.py3-none-any.whl.metadata (15 kB)\n",
            "Collecting executing>=1.2.0 (from stack_data->ipython>=6.1.0->ipywidgets->leafmap)\n",
            "  Downloading executing-2.2.1-py2.py3-none-any.whl.metadata (8.9 kB)\n",
            "Collecting asttokens>=2.1.0 (from stack_data->ipython>=6.1.0->ipywidgets->leafmap)\n",
            "  Downloading asttokens-3.0.0-py3-none-any.whl.metadata (4.7 kB)\n",
            "Collecting pure-eval (from stack_data->ipython>=6.1.0->ipywidgets->leafmap)\n",
            "  Downloading pure_eval-0.2.3-py3-none-any.whl.metadata (6.3 kB)\n",
            "Using cached leafmap-0.52.3-py2.py3-none-any.whl (588 kB)\n",
            "Downloading anywidget-0.9.18-py3-none-any.whl (220 kB)\n",
            "Downloading ipywidgets-8.1.7-py3-none-any.whl (139 kB)\n",
            "Downloading bqplot-0.12.45-py2.py3-none-any.whl (1.2 MB)\n",
            "\u001b[2K   \u001b[90m━━━━━━━━━━━━━━━━━━━━━━━━━━━━━━━━━━━━━━━━\u001b[0m \u001b[32m1.2/1.2 MB\u001b[0m \u001b[31m34.6 MB/s\u001b[0m eta \u001b[36m0:00:00\u001b[0m\n",
            "\u001b[?25hDownloading pandas-2.3.2-cp311-cp311-manylinux_2_17_x86_64.manylinux2014_x86_64.whl (12.4 MB)\n",
            "\u001b[2K   \u001b[90m━━━━━━━━━━━━━━━━━━━━━━━━━━━━━━━━━━━━━━━━\u001b[0m \u001b[32m12.4/12.4 MB\u001b[0m \u001b[31m118.0 MB/s\u001b[0m eta \u001b[36m0:00:00\u001b[0m\n",
            "\u001b[?25hDownloading duckdb-1.4.0-cp311-cp311-manylinux_2_27_x86_64.manylinux_2_28_x86_64.whl (20.4 MB)\n",
            "\u001b[2K   \u001b[90m━━━━━━━━━━━━━━━━━━━━━━━━━━━━━━━━━━━━━━━━\u001b[0m \u001b[32m20.4/20.4 MB\u001b[0m \u001b[31m147.9 MB/s\u001b[0m eta \u001b[36m0:00:00\u001b[0m\n",
            "\u001b[?25hDownloading folium-0.20.0-py2.py3-none-any.whl (113 kB)\n",
            "Downloading gdown-5.2.0-py3-none-any.whl (18 kB)\n",
            "Using cached geojson-3.2.0-py3-none-any.whl (15 kB)\n",
            "Downloading geopandas-1.1.1-py3-none-any.whl (338 kB)\n",
            "Downloading ipyevents-2.0.4-py3-none-any.whl (102 kB)\n",
            "Downloading ipyfilechooser-0.6.0-py3-none-any.whl (11 kB)\n",
            "Downloading ipyleaflet-0.20.0-py3-none-any.whl (31 kB)\n",
            "Downloading xyzservices-2025.4.0-py3-none-any.whl (90 kB)\n",
            "Using cached ipyvuetify-1.11.3-py2.py3-none-any.whl (6.3 MB)\n",
            "Using cached maplibre-0.3.5-py3-none-any.whl (1.4 MB)\n",
            "Downloading matplotlib-3.10.6-cp311-cp311-manylinux2014_x86_64.manylinux_2_17_x86_64.whl (8.7 MB)\n",
            "\u001b[2K   \u001b[90m━━━━━━━━━━━━━━━━━━━━━━━━━━━━━━━━━━━━━━━━\u001b[0m \u001b[32m8.7/8.7 MB\u001b[0m \u001b[31m145.4 MB/s\u001b[0m eta \u001b[36m0:00:00\u001b[0m\n",
            "\u001b[?25hDownloading plotly-6.3.0-py3-none-any.whl (9.8 MB)\n",
            "\u001b[2K   \u001b[90m━━━━━━━━━━━━━━━━━━━━━━━━━━━━━━━━━━━━━━━━\u001b[0m \u001b[32m9.8/9.8 MB\u001b[0m \u001b[31m118.7 MB/s\u001b[0m eta \u001b[36m0:00:00\u001b[0m\n",
            "\u001b[?25hUsing cached pystac_client-0.9.0-py3-none-any.whl (41 kB)\n",
            "Downloading python_box-7.3.2-cp311-cp311-manylinux_2_17_x86_64.manylinux2014_x86_64.whl (4.3 MB)\n",
            "\u001b[2K   \u001b[90m━━━━━━━━━━━━━━━━━━━━━━━━━━━━━━━━━━━━━━━━\u001b[0m \u001b[32m4.3/4.3 MB\u001b[0m \u001b[31m112.1 MB/s\u001b[0m eta \u001b[36m0:00:00\u001b[0m\n",
            "\u001b[?25hDownloading scooby-0.10.2-py3-none-any.whl (18 kB)\n",
            "Using cached whiteboxgui-2.3.0-py2.py3-none-any.whl (108 kB)\n",
            "Downloading branca-0.8.1-py3-none-any.whl (26 kB)\n",
            "Downloading comm-0.2.3-py3-none-any.whl (7.3 kB)\n",
            "Downloading contourpy-1.3.3-cp311-cp311-manylinux_2_27_x86_64.manylinux_2_28_x86_64.whl (355 kB)\n",
            "Downloading cycler-0.12.1-py3-none-any.whl (8.3 kB)\n",
            "Downloading fonttools-4.60.0-cp311-cp311-manylinux2014_x86_64.manylinux_2_17_x86_64.whl (5.0 MB)\n",
            "\u001b[2K   \u001b[90m━━━━━━━━━━━━━━━━━━━━━━━━━━━━━━━━━━━━━━━━\u001b[0m \u001b[32m5.0/5.0 MB\u001b[0m \u001b[31m124.7 MB/s\u001b[0m eta \u001b[36m0:00:00\u001b[0m\n",
            "\u001b[?25hDownloading ipython-9.5.0-py3-none-any.whl (612 kB)\n",
            "\u001b[2K   \u001b[90m━━━━━━━━━━━━━━━━━━━━━━━━━━━━━━━━━━━━━━━━\u001b[0m \u001b[32m612.4/612.4 kB\u001b[0m \u001b[31m28.6 MB/s\u001b[0m eta \u001b[36m0:00:00\u001b[0m\n",
            "\u001b[?25hUsing cached ipyvue-1.11.3-py2.py3-none-any.whl (2.7 MB)\n",
            "Downloading jinja2-3.1.6-py3-none-any.whl (134 kB)\n",
            "Downloading jupyter_leaflet-0.20.0-py3-none-any.whl (1.1 MB)\n",
            "\u001b[2K   \u001b[90m━━━━━━━━━━━━━━━━━━━━━━━━━━━━━━━━━━━━━━━━\u001b[0m \u001b[32m1.1/1.1 MB\u001b[0m \u001b[31m48.1 MB/s\u001b[0m eta \u001b[36m0:00:00\u001b[0m\n",
            "\u001b[?25hDownloading jupyterlab_widgets-3.0.15-py3-none-any.whl (216 kB)\n",
            "Downloading kiwisolver-1.4.9-cp311-cp311-manylinux2014_x86_64.manylinux_2_17_x86_64.whl (1.4 MB)\n",
            "\u001b[2K   \u001b[90m━━━━━━━━━━━━━━━━━━━━━━━━━━━━━━━━━━━━━━━━\u001b[0m \u001b[32m1.4/1.4 MB\u001b[0m \u001b[31m74.2 MB/s\u001b[0m eta \u001b[36m0:00:00\u001b[0m\n",
            "\u001b[?25hDownloading narwhals-2.5.0-py3-none-any.whl (407 kB)\n",
            "Downloading pillow-11.3.0-cp311-cp311-manylinux_2_27_x86_64.manylinux_2_28_x86_64.whl (6.6 MB)\n",
            "\u001b[2K   \u001b[90m━━━━━━━━━━━━━━━━━━━━━━━━━━━━━━━━━━━━━━━━\u001b[0m \u001b[32m6.6/6.6 MB\u001b[0m \u001b[31m16.6 MB/s\u001b[0m eta \u001b[36m0:00:00\u001b[0m\n",
            "\u001b[?25hDownloading psygnal-0.14.1-cp311-cp311-manylinux2014_x86_64.manylinux_2_17_x86_64.manylinux_2_28_x86_64.whl (842 kB)\n",
            "\u001b[2K   \u001b[90m━━━━━━━━━━━━━━━━━━━━━━━━━━━━━━━━━━━━━━━━\u001b[0m \u001b[32m842.2/842.2 kB\u001b[0m \u001b[31m43.2 MB/s\u001b[0m eta \u001b[36m0:00:00\u001b[0m\n",
            "\u001b[?25hDownloading pydantic-2.11.9-py3-none-any.whl (444 kB)\n",
            "Downloading pydantic_core-2.33.2-cp311-cp311-manylinux_2_17_x86_64.manylinux2014_x86_64.whl (2.0 MB)\n",
            "\u001b[2K   \u001b[90m━━━━━━━━━━━━━━━━━━━━━━━━━━━━━━━━━━━━━━━━\u001b[0m \u001b[32m2.0/2.0 MB\u001b[0m \u001b[31m93.1 MB/s\u001b[0m eta \u001b[36m0:00:00\u001b[0m\n",
            "\u001b[?25hDownloading pyogrio-0.11.1-cp311-cp311-manylinux_2_28_x86_64.whl (27.7 MB)\n",
            "\u001b[2K   \u001b[90m━━━━━━━━━━━━━━━━━━━━━━━━━━━━━━━━━━━━━━━━\u001b[0m \u001b[32m27.7/27.7 MB\u001b[0m \u001b[31m125.7 MB/s\u001b[0m eta \u001b[36m0:00:00\u001b[0m\n",
            "\u001b[?25hDownloading pyparsing-3.2.5-py3-none-any.whl (113 kB)\n",
            "Downloading pyproj-3.7.2-cp311-cp311-manylinux_2_28_x86_64.whl (9.5 MB)\n",
            "\u001b[2K   \u001b[90m━━━━━━━━━━━━━━━━━━━━━━━━━━━━━━━━━━━━━━━━\u001b[0m \u001b[32m9.5/9.5 MB\u001b[0m \u001b[31m124.3 MB/s\u001b[0m eta \u001b[36m0:00:00\u001b[0m\n",
            "\u001b[?25hUsing cached pystac-1.14.1-py3-none-any.whl (207 kB)\n",
            "Downloading python_dateutil-2.9.0.post0-py2.py3-none-any.whl (229 kB)\n",
            "Downloading pytz-2025.2-py2.py3-none-any.whl (509 kB)\n",
            "Downloading shapely-2.1.1-cp311-cp311-manylinux_2_17_x86_64.manylinux2014_x86_64.whl (3.1 MB)\n",
            "\u001b[2K   \u001b[90m━━━━━━━━━━━━━━━━━━━━━━━━━━━━━━━━━━━━━━━━\u001b[0m \u001b[32m3.1/3.1 MB\u001b[0m \u001b[31m107.1 MB/s\u001b[0m eta \u001b[36m0:00:00\u001b[0m\n",
            "\u001b[?25hDownloading traitlets-5.14.3-py3-none-any.whl (85 kB)\n",
            "Downloading traittypes-0.2.1-py2.py3-none-any.whl (8.6 kB)\n",
            "Downloading typing_extensions-4.15.0-py3-none-any.whl (44 kB)\n",
            "Downloading tzdata-2025.2-py2.py3-none-any.whl (347 kB)\n",
            "Downloading widgetsnbextension-4.0.14-py3-none-any.whl (2.2 MB)\n",
            "\u001b[2K   \u001b[90m━━━━━━━━━━━━━━━━━━━━━━━━━━━━━━━━━━━━━━━━\u001b[0m \u001b[32m2.2/2.2 MB\u001b[0m \u001b[31m104.0 MB/s\u001b[0m eta \u001b[36m0:00:00\u001b[0m\n",
            "\u001b[?25hDownloading beautifulsoup4-4.13.5-py3-none-any.whl (105 kB)\n",
            "Using cached eval_type_backport-0.2.2-py3-none-any.whl (5.8 kB)\n",
            "Downloading filelock-3.19.1-py3-none-any.whl (15 kB)\n",
            "Downloading ipytree-0.2.2-py2.py3-none-any.whl (1.3 MB)\n",
            "\u001b[2K   \u001b[90m━━━━━━━━━━━━━━━━━━━━━━━━━━━━━━━━━━━━━━━━\u001b[0m \u001b[32m1.3/1.3 MB\u001b[0m \u001b[31m47.5 MB/s\u001b[0m eta \u001b[36m0:00:00\u001b[0m\n",
            "\u001b[?25hUsing cached whitebox-2.3.6-py2.py3-none-any.whl (74 kB)\n",
            "Downloading annotated_types-0.7.0-py3-none-any.whl (13 kB)\n",
            "Downloading click-8.3.0-py3-none-any.whl (107 kB)\n",
            "Using cached jedi-0.19.2-py2.py3-none-any.whl (1.6 MB)\n",
            "Downloading jsonschema-4.25.1-py3-none-any.whl (90 kB)\n",
            "Downloading MarkupSafe-3.0.2-cp311-cp311-manylinux_2_17_x86_64.manylinux2014_x86_64.whl (23 kB)\n",
            "Downloading pexpect-4.9.0-py2.py3-none-any.whl (63 kB)\n",
            "Downloading prompt_toolkit-3.0.52-py3-none-any.whl (391 kB)\n",
            "Using cached pygments-2.19.2-py3-none-any.whl (1.2 MB)\n",
            "Downloading six-1.17.0-py2.py3-none-any.whl (11 kB)\n",
            "Downloading soupsieve-2.8-py3-none-any.whl (36 kB)\n",
            "Downloading typing_inspection-0.4.1-py3-none-any.whl (14 kB)\n",
            "Downloading decorator-5.2.1-py3-none-any.whl (9.2 kB)\n",
            "Downloading ipython_pygments_lexers-1.1.1-py3-none-any.whl (8.1 kB)\n",
            "Downloading matplotlib_inline-0.1.7-py3-none-any.whl (9.9 kB)\n",
            "Downloading stack_data-0.6.3-py3-none-any.whl (24 kB)\n",
            "Downloading asttokens-3.0.0-py3-none-any.whl (26 kB)\n",
            "Downloading attrs-25.3.0-py3-none-any.whl (63 kB)\n",
            "Downloading executing-2.2.1-py2.py3-none-any.whl (28 kB)\n",
            "Downloading jsonschema_specifications-2025.9.1-py3-none-any.whl (18 kB)\n",
            "Downloading parso-0.8.5-py2.py3-none-any.whl (106 kB)\n",
            "Downloading ptyprocess-0.7.0-py2.py3-none-any.whl (13 kB)\n",
            "Downloading referencing-0.36.2-py3-none-any.whl (26 kB)\n",
            "Downloading rpds_py-0.27.1-cp311-cp311-manylinux_2_17_x86_64.manylinux2014_x86_64.whl (384 kB)\n",
            "Downloading pure_eval-0.2.3-py3-none-any.whl (11 kB)\n",
            "Downloading wcwidth-0.2.14-py2.py3-none-any.whl (37 kB)\n",
            "Installing collected packages: pytz, pure-eval, ptyprocess, xyzservices, widgetsnbextension, wcwidth, tzdata, typing-extensions, traitlets, soupsieve, six, shapely, scooby, rpds-py, python-box, pyproj, pyparsing, pyogrio, pygments, psygnal, pillow, pexpect, parso, narwhals, MarkupSafe, kiwisolver, jupyterlab_widgets, jupyter-leaflet, geojson, fonttools, filelock, executing, eval-type-backport, duckdb, decorator, cycler, contourpy, comm, Click, attrs, asttokens, annotated-types, whitebox, typing-inspection, traittypes, stack_data, referencing, python-dateutil, pydantic-core, prompt_toolkit, plotly, matplotlib-inline, jinja2, jedi, ipython-pygments-lexers, beautifulsoup4, pystac, pydantic, pandas, matplotlib, jsonschema-specifications, ipython, gdown, branca, maplibre, jsonschema, ipywidgets, geopandas, folium, ipyvue, ipytree, ipyleaflet, ipyfilechooser, ipyevents, bqplot, anywidget, whiteboxgui, pystac-client, ipyvuetify, leafmap\n",
            "Successfully installed Click-8.3.0 MarkupSafe-3.0.2 annotated-types-0.7.0 anywidget-0.9.18 asttokens-3.0.0 attrs-25.3.0 beautifulsoup4-4.13.5 bqplot-0.12.45 branca-0.8.1 comm-0.2.3 contourpy-1.3.3 cycler-0.12.1 decorator-5.2.1 duckdb-1.4.0 eval-type-backport-0.2.2 executing-2.2.1 filelock-3.19.1 folium-0.20.0 fonttools-4.60.0 gdown-5.2.0 geojson-3.2.0 geopandas-1.1.1 ipyevents-2.0.4 ipyfilechooser-0.6.0 ipyleaflet-0.20.0 ipython-9.5.0 ipython-pygments-lexers-1.1.1 ipytree-0.2.2 ipyvue-1.11.3 ipyvuetify-1.11.3 ipywidgets-8.1.7 jedi-0.19.2 jinja2-3.1.6 jsonschema-4.25.1 jsonschema-specifications-2025.9.1 jupyter-leaflet-0.20.0 jupyterlab_widgets-3.0.15 kiwisolver-1.4.9 leafmap-0.52.3 maplibre-0.3.5 matplotlib-3.10.6 matplotlib-inline-0.1.7 narwhals-2.5.0 pandas-2.3.2 parso-0.8.5 pexpect-4.9.0 pillow-11.3.0 plotly-6.3.0 prompt_toolkit-3.0.52 psygnal-0.14.1 ptyprocess-0.7.0 pure-eval-0.2.3 pydantic-2.11.9 pydantic-core-2.33.2 pygments-2.19.2 pyogrio-0.11.1 pyparsing-3.2.5 pyproj-3.7.2 pystac-1.14.1 pystac-client-0.9.0 python-box-7.3.2 python-dateutil-2.9.0.post0 pytz-2025.2 referencing-0.36.2 rpds-py-0.27.1 scooby-0.10.2 shapely-2.1.1 six-1.17.0 soupsieve-2.8 stack_data-0.6.3 traitlets-5.14.3 traittypes-0.2.1 typing-extensions-4.15.0 typing-inspection-0.4.1 tzdata-2025.2 wcwidth-0.2.14 whitebox-2.3.6 whiteboxgui-2.3.0 widgetsnbextension-4.0.14 xyzservices-2025.4.0\n"
          ]
        },
        {
          "output_type": "display_data",
          "data": {
            "application/vnd.colab-display-data+json": {
              "pip_warning": {
                "packages": [
                  "IPython",
                  "PIL",
                  "cycler",
                  "dateutil",
                  "decorator",
                  "jedi",
                  "kiwisolver",
                  "matplotlib",
                  "matplotlib_inline",
                  "mpl_toolkits",
                  "parso",
                  "pexpect",
                  "prompt_toolkit",
                  "ptyprocess",
                  "pyparsing",
                  "six",
                  "traitlets",
                  "wcwidth"
                ]
              },
              "id": "0d22170a1c96436dbb6e067f6a754d49"
            }
          },
          "metadata": {}
        },
        {
          "output_type": "stream",
          "name": "stdout",
          "text": [
            "Requirement already satisfied: pystac_client in /usr/local/lib/python3.11/site-packages (0.9.0)\n",
            "Requirement already satisfied: requests>=2.28.2 in /usr/local/lib/python3.11/site-packages (from pystac_client) (2.32.3)\n",
            "Requirement already satisfied: pystac>=1.10.0 in /usr/local/lib/python3.11/site-packages (from pystac[validation]>=1.10.0->pystac_client) (1.14.1)\n",
            "Requirement already satisfied: python-dateutil>=2.8.2 in /usr/local/lib/python3.11/site-packages (from pystac_client) (2.9.0.post0)\n",
            "Requirement already satisfied: jsonschema~=4.18 in /usr/local/lib/python3.11/site-packages (from pystac[validation]>=1.10.0->pystac_client) (4.25.1)\n",
            "Requirement already satisfied: six>=1.5 in /usr/local/lib/python3.11/site-packages (from python-dateutil>=2.8.2->pystac_client) (1.17.0)\n",
            "Requirement already satisfied: charset_normalizer<4,>=2 in /usr/local/lib/python3.11/site-packages (from requests>=2.28.2->pystac_client) (3.4.1)\n",
            "Requirement already satisfied: idna<4,>=2.5 in /usr/local/lib/python3.11/site-packages (from requests>=2.28.2->pystac_client) (3.10)\n",
            "Requirement already satisfied: urllib3<3,>=1.21.1 in /usr/local/lib/python3.11/site-packages (from requests>=2.28.2->pystac_client) (2.3.0)\n",
            "Requirement already satisfied: certifi>=2017.4.17 in /usr/local/lib/python3.11/site-packages (from requests>=2.28.2->pystac_client) (2025.8.3)\n",
            "Requirement already satisfied: attrs>=22.2.0 in /usr/local/lib/python3.11/site-packages (from jsonschema~=4.18->pystac[validation]>=1.10.0->pystac_client) (25.3.0)\n",
            "Requirement already satisfied: jsonschema-specifications>=2023.03.6 in /usr/local/lib/python3.11/site-packages (from jsonschema~=4.18->pystac[validation]>=1.10.0->pystac_client) (2025.9.1)\n",
            "Requirement already satisfied: referencing>=0.28.4 in /usr/local/lib/python3.11/site-packages (from jsonschema~=4.18->pystac[validation]>=1.10.0->pystac_client) (0.36.2)\n",
            "Requirement already satisfied: rpds-py>=0.7.1 in /usr/local/lib/python3.11/site-packages (from jsonschema~=4.18->pystac[validation]>=1.10.0->pystac_client) (0.27.1)\n",
            "Requirement already satisfied: typing-extensions>=4.4.0 in /usr/local/lib/python3.11/site-packages (from referencing>=0.28.4->jsonschema~=4.18->pystac[validation]>=1.10.0->pystac_client) (4.15.0)\n",
            "Collecting rasterstats\n",
            "  Using cached rasterstats-0.20.0-py3-none-any.whl.metadata (4.2 kB)\n",
            "Collecting affine (from rasterstats)\n",
            "  Using cached affine-2.4.0-py3-none-any.whl.metadata (4.0 kB)\n",
            "Requirement already satisfied: click>7.1 in /usr/local/lib/python3.11/site-packages (from rasterstats) (8.3.0)\n",
            "Collecting cligj>=0.4 (from rasterstats)\n",
            "  Using cached cligj-0.7.2-py3-none-any.whl.metadata (5.0 kB)\n",
            "Collecting fiona (from rasterstats)\n",
            "  Downloading fiona-1.10.1-cp311-cp311-manylinux_2_17_x86_64.manylinux2014_x86_64.whl.metadata (56 kB)\n",
            "Requirement already satisfied: numpy>=1.9 in /usr/local/lib/python3.11/site-packages (from rasterstats) (2.3.3)\n",
            "Collecting rasterio>=1.0 (from rasterstats)\n",
            "  Downloading rasterio-1.4.3-cp311-cp311-manylinux_2_17_x86_64.manylinux2014_x86_64.whl.metadata (9.1 kB)\n",
            "Collecting simplejson (from rasterstats)\n",
            "  Downloading simplejson-3.20.1-cp311-cp311-manylinux_2_5_x86_64.manylinux1_x86_64.manylinux_2_17_x86_64.manylinux2014_x86_64.whl.metadata (3.2 kB)\n",
            "Requirement already satisfied: shapely in /usr/local/lib/python3.11/site-packages (from rasterstats) (2.1.1)\n",
            "Requirement already satisfied: attrs in /usr/local/lib/python3.11/site-packages (from rasterio>=1.0->rasterstats) (25.3.0)\n",
            "Requirement already satisfied: certifi in /usr/local/lib/python3.11/site-packages (from rasterio>=1.0->rasterstats) (2025.8.3)\n",
            "Collecting click-plugins (from rasterio>=1.0->rasterstats)\n",
            "  Using cached click_plugins-1.1.1.2-py2.py3-none-any.whl.metadata (6.5 kB)\n",
            "Requirement already satisfied: pyparsing in /usr/local/lib/python3.11/site-packages (from rasterio>=1.0->rasterstats) (3.2.5)\n",
            "Using cached rasterstats-0.20.0-py3-none-any.whl (17 kB)\n",
            "Using cached cligj-0.7.2-py3-none-any.whl (7.1 kB)\n",
            "Downloading rasterio-1.4.3-cp311-cp311-manylinux_2_17_x86_64.manylinux2014_x86_64.whl (22.2 MB)\n",
            "\u001b[2K   \u001b[90m━━━━━━━━━━━━━━━━━━━━━━━━━━━━━━━━━━━━━━━━\u001b[0m \u001b[32m22.2/22.2 MB\u001b[0m \u001b[31m125.4 MB/s\u001b[0m eta \u001b[36m0:00:00\u001b[0m\n",
            "\u001b[?25hUsing cached affine-2.4.0-py3-none-any.whl (15 kB)\n",
            "Downloading fiona-1.10.1-cp311-cp311-manylinux_2_17_x86_64.manylinux2014_x86_64.whl (17.3 MB)\n",
            "\u001b[2K   \u001b[90m━━━━━━━━━━━━━━━━━━━━━━━━━━━━━━━━━━━━━━━━\u001b[0m \u001b[32m17.3/17.3 MB\u001b[0m \u001b[31m136.6 MB/s\u001b[0m eta \u001b[36m0:00:00\u001b[0m\n",
            "\u001b[?25hDownloading simplejson-3.20.1-cp311-cp311-manylinux_2_5_x86_64.manylinux1_x86_64.manylinux_2_17_x86_64.manylinux2014_x86_64.whl (144 kB)\n",
            "Using cached click_plugins-1.1.1.2-py2.py3-none-any.whl (11 kB)\n",
            "Installing collected packages: simplejson, cligj, click-plugins, affine, rasterio, fiona, rasterstats\n",
            "Successfully installed affine-2.4.0 click-plugins-1.1.1.2 cligj-0.7.2 fiona-1.10.1 rasterio-1.4.3 rasterstats-0.20.0 simplejson-3.20.1\n",
            "Collecting trimesh\n",
            "  Using cached trimesh-4.8.2-py3-none-any.whl.metadata (18 kB)\n",
            "Requirement already satisfied: numpy>=1.20 in /usr/local/lib/python3.11/site-packages (from trimesh) (2.3.3)\n",
            "Using cached trimesh-4.8.2-py3-none-any.whl (729 kB)\n",
            "Installing collected packages: trimesh\n",
            "Successfully installed trimesh-4.8.2\n",
            "Requirement already satisfied: jupyter-leaflet in /usr/local/lib/python3.11/site-packages (0.20.0)\n"
          ]
        }
      ],
      "source": [
        "# !pip install leafmap\n",
        "# !pip install pystac_client\n",
        "# !pip install rasterstats\n",
        "# !pip install trimesh\n",
        "# !pip install jupyter-leaflet"
      ]
    },
    {
      "cell_type": "code",
      "source": [
        "# # Install conda into Colab\n",
        "# !pip install -q condacolab\n",
        "# import condacolab\n",
        "# condacolab.install()\n"
      ],
      "metadata": {
        "id": "fuoCTkLP73kj"
      },
      "id": "fuoCTkLP73kj",
      "execution_count": null,
      "outputs": []
    },
    {
      "cell_type": "code",
      "source": [
        "# !conda install -c conda-forge pdal python-pdal -y"
      ],
      "metadata": {
        "id": "NlU2LG8_84s3"
      },
      "id": "NlU2LG8_84s3",
      "execution_count": null,
      "outputs": []
    },
    {
      "cell_type": "code",
      "execution_count": null,
      "id": "7a250ae9",
      "metadata": {
        "id": "7a250ae9"
      },
      "outputs": [],
      "source": [
        "import os\n",
        "import time\n",
        "from leafmap import Map                # interactive mapping in Python\n",
        "import geopandas as gpd                # working with geospatial data in Python\n",
        "from pystac_client import Client       # STAC API clientimport\n",
        "import pdal                            # lidar processing in Python\n",
        "import json\n",
        "import rasterio                        # raster processing in Python\n",
        "from rasterstats import zonal_stats    # zonal statistics\n",
        "import trimesh                         # 3D mesh processing in Python"
      ]
    },
    {
      "cell_type": "markdown",
      "id": "d030dcad",
      "metadata": {
        "id": "d030dcad"
      },
      "source": [
        "Let's get ready to build a map.  First, we are going to visit [The Commonwealth Map](https://kygeonet.ky.gov/tcm) to use the coordinate widget to grab center coordinates.\n",
        "\n",
        "<p align=\"center\">\n",
        "    <img src=\"https://github.com/ianhorn/kyfromabove-gisconference2025-workshop/blob/main/notebooks/assets/coordinate_widget.png?raw=1\" width=\"450\" height=\"auto\" />\n",
        "    <figcaption><strong>Figure:</strong> Coordinate widget in the lower left corner of the the Commonwealth Basemap app.</figcaption>\n",
        "</p>\n",
        "\n",
        "I was able to copy: -84.886 37.917 Degrees.  We can use this to center our map.  \n",
        "\n",
        "Notice the values pasted are in the order of long/lat.  When we go to add the values for the map, make sure to reverse the order so that it is lat/long\n",
        "\n",
        "```juypter\n",
        "m = Map(center=(lat, long, zoom=4, width= , height=))\n",
        "```\n",
        "\n",
        "Fill the values for `center`, `zoom`, and `size`."
      ]
    },
    {
      "cell_type": "code",
      "execution_count": null,
      "id": "de7f7654",
      "metadata": {
        "id": "de7f7654"
      },
      "outputs": [],
      "source": [
        "# let's create a map\n",
        "m = Map(\n",
        "    center=(37.917, -84.886),\n",
        "    zoom=4\n",
        "    )\n",
        "# display the map\n",
        "m"
      ]
    },
    {
      "cell_type": "markdown",
      "id": "524d8a0d",
      "metadata": {
        "id": "524d8a0d"
      },
      "source": [
        "Familiarize yourself with the map and the default widgets on the left.  Take a moment to test drive the ones on the left.  \n",
        "\n",
        "- zoom\n",
        "- fullscreen\n",
        "- polyline\n",
        "- polygon\n",
        "- rectangle\n",
        "- circle\n",
        "- marker\n",
        "- edit\n",
        "- delete\n",
        "\n",
        "When you are done, go to the previous cell and make adjustments to zoom, height, width, or coordinates.  Try to make Kentucky centered and be in fill the screen."
      ]
    },
    {
      "cell_type": "markdown",
      "id": "1883674d",
      "metadata": {
        "id": "1883674d"
      },
      "source": [
        "Now take a moment to open the toolbox in the top right.  Scroll over each thumbnail to see what's available.  Try them out.  We'll comeback to this later."
      ]
    },
    {
      "cell_type": "markdown",
      "id": "4b72f530",
      "metadata": {
        "id": "4b72f530"
      },
      "source": [
        "While we're working on the map.  Let's add a *WMSLayer* of The Commonwealth Basemap."
      ]
    },
    {
      "cell_type": "code",
      "execution_count": null,
      "id": "0e44c9a0",
      "metadata": {
        "id": "0e44c9a0"
      },
      "outputs": [],
      "source": [
        "m.add_tile_layer(\n",
        "    url=\"https://kygisserver.ky.gov/arcgis/rest/services/WGS84WM_Services/Ky_TCM_Base_WGS84WM/MapServer/tile/{z}/{y}/{x}\",\n",
        "    name=\"TCM\",\n",
        "    attribution=\"DGI\",\n",
        ")\n",
        "m"
      ]
    },
    {
      "cell_type": "markdown",
      "id": "ee7d6459",
      "metadata": {
        "id": "ee7d6459"
      },
      "source": [
        "___\n",
        "## Get Building Heights"
      ]
    },
    {
      "cell_type": "markdown",
      "id": "bfcc572f",
      "metadata": {
        "id": "bfcc572f"
      },
      "source": [
        "Building heights are an important attribute in many contexts: urban studies, environmental studies, emergency management, economics, and of course, geospatial and remote sensing.\n",
        "\n",
        "Although using LiDAR to extract building footprints is a fun exercise, many excellent resources already exist.  I like [Overture Maps's](https://docs.overturemaps.org/guides/buildings/#14/32.58453/-117.05154/0/60) (OM) building datasets.\n",
        "\n",
        "Fortunately, DGI has already processed a recent release of OM's buildings.  We will use that dataset from DGI's Open Data Portal along with KyFromAbove LiDAR Pointcloud data to extract building heights.\n",
        "\n",
        "These are the steps we are going to take.\n",
        "\n",
        "1. Find an area of interest\n",
        "2. Get building footprint data\n",
        "3. Search STAC for pointcloud data\n",
        "4. Create a Height Above Ground Model (HAG)\\*\n",
        "5. Perform zonal statistics on buildings\n",
        "6. Write buildings with height attributes to file\n",
        "\n",
        "\n",
        "\\*Using the Height Above Ground model is much more efficient and accurate than using math and dsm/dtm."
      ]
    },
    {
      "cell_type": "markdown",
      "id": "536d3bc2",
      "metadata": {
        "id": "536d3bc2"
      },
      "source": [
        "### Find an AOI\n",
        "\n",
        "To find our area of interest, let's overlay the Phase 3 Pointcloud Tile Grid on the map.\n",
        "\n",
        "- Go to [KyFromAbove Stac-Browser](https://kygeonet.ky.gov/stac)\n",
        "- Click on the *Point Cloud Phase 3 (COPC)* collection.\n",
        "- Find the tile index geopackage under *Asssets*\n",
        "- Click *Copy URL*\\*\n",
        "- Paste it to your local text file or in your notebook with comments (#)<br><p><img src=\"https://github.com/ianhorn/kyfromabove-gisconference2025-workshop/blob/main/notebooks/assets/tileindexlink.png?raw=1\" width=\"600\" height=\"auto\" /></p>\n",
        "- Add to map\n",
        "\n",
        "\n",
        "\\*FYI, I have pre-saved some links in the repo root directory in [pasted_values.txt](../pasted_values.txt)."
      ]
    },
    {
      "cell_type": "code",
      "execution_count": null,
      "id": "e58c9acf",
      "metadata": {
        "id": "e58c9acf"
      },
      "outputs": [],
      "source": [
        "# add tile index to map\n",
        "tile_index = input(\"Paste Index URL here: \")\n",
        "# read with geopandas\n",
        "gdf = gpd.read_file(tile_index)\n",
        "# add to map\n",
        "m.add_gdf(gdf, layer_name=\"Phase 3 Tile Index\")\n",
        "m"
      ]
    },
    {
      "cell_type": "markdown",
      "id": "3dc9e9ef",
      "metadata": {
        "id": "3dc9e9ef"
      },
      "source": [
        "Zoom to an area around Florence, Kentucky.  As you scroll over the tiles, the info box will show feature id, key, and aws_url.  We need to grab a url to add to the next cell."
      ]
    },
    {
      "cell_type": "code",
      "execution_count": null,
      "id": "c6e628c9",
      "metadata": {
        "id": "c6e628c9"
      },
      "outputs": [],
      "source": [
        "# get AWS URL\n",
        "aws_url = input(\"Paste the AWS S3 URL for the KyFromAbove data: \")\n",
        "print(aws_url)"
      ]
    },
    {
      "cell_type": "markdown",
      "id": "d0db7761",
      "metadata": {
        "id": "d0db7761"
      },
      "source": [
        "#### Get extent values\n",
        "\n",
        "Now that we know the tile and have it's name.  Let's go to the STAC API to grab to extent details.\n",
        "\n",
        "1. Extract the STAC Item ID from the file path"
      ]
    },
    {
      "cell_type": "code",
      "execution_count": null,
      "id": "c287a7f9",
      "metadata": {
        "id": "c287a7f9"
      },
      "outputs": [],
      "source": [
        "# get the item_id\n",
        "tile_basename = os.path.basename(aws_url)    # Separate the path and get the file name\n",
        "item_id = tile_basename.replace(\".laz\", \"\")  # Remove the file extension to get the name\n",
        "item_id                                      # ID to search for"
      ]
    },
    {
      "cell_type": "markdown",
      "id": "092e0687",
      "metadata": {
        "id": "092e0687"
      },
      "source": [
        "2. Use [PySTAC](https://pystac.readthedocs.io/en/stable/) to get info on the Item\n",
        "\n",
        "    - connect to the API *https://spved5ihrl.execute-api.us-west-2.amazonaws.com/*\n",
        "    - get item\n",
        "    - get item info"
      ]
    },
    {
      "cell_type": "code",
      "execution_count": null,
      "id": "8b9b4ec8",
      "metadata": {
        "id": "8b9b4ec8"
      },
      "outputs": [],
      "source": [
        "# stac api url\n",
        "stac_api_url = \"https://spved5ihrl.execute-api.us-west-2.amazonaws.com/\"\n",
        "# open the stac client\n",
        "client = Client.open(stac_api_url)\n",
        "\n",
        "stac_item = item_id\n",
        "\n",
        "# search fo the item\n",
        "results = client.search(ids=[stac_item])\n",
        "results.get_all_items()"
      ]
    },
    {
      "cell_type": "code",
      "execution_count": null,
      "id": "1314116b",
      "metadata": {
        "id": "1314116b"
      },
      "outputs": [],
      "source": [
        "# parse the results to get item bbox\n",
        "for item in results.get_items():\n",
        "    bbox = item.bbox\n",
        "\n",
        "geometry = bbox[0], bbox[1], bbox[2], bbox[3]\n",
        "geometry = str(geometry).replace(\"(\", \"\").replace(\")\", \"\").replace(\" \", \"\")\n",
        "print(geometry)"
      ]
    },
    {
      "cell_type": "markdown",
      "id": "d332e4dd",
      "metadata": {
        "id": "d332e4dd"
      },
      "source": [
        "We will use these bbox values to help us filter buildings."
      ]
    },
    {
      "cell_type": "markdown",
      "id": "377224c1",
      "metadata": {
        "id": "377224c1"
      },
      "source": [
        "___\n",
        "### Get Building Footprints\n",
        "\n",
        "1. Visit the Kentucky [Open Data Portal](https://opengisdata.ky.gov) and search for buildings.  \n",
        "2. Click on *Kentucky Building Footprints - Overture Maps Foundation*.\n",
        "3. At the bottom of the left sidebar, click *I want to use this*.\n",
        "4. Toggle open *View API Resources*.\n",
        "5. Click on *View* for the GeoService\\*.<br><p><img src=\"https://github.com/ianhorn/kyfromabove-gisconference2025-workshop/blob/main/notebooks/assets/api_resources.png?raw=1\" width=\"400\" height=\"auto\" /></p>\n",
        "\n",
        "*Refer to the Rest API [Query](https://developers.arcgis.com/rest/services-reference/enterprise/query-feature-service/) Documentation for the next step."
      ]
    },
    {
      "cell_type": "markdown",
      "id": "f37c28b6",
      "metadata": {
        "id": "f37c28b6"
      },
      "source": [
        "#### Set up a query\n",
        "\n",
        "From step five above, we should now be on the rest service endpoint for the buildings layer.\n",
        "\n",
        "1. Grab the bbox from the code cell above without the brackets *[]*.\n",
        "2. Paste it into the *Input Geometry* on the service end point.\n",
        "3. Use `4326` as the *Input Spatial Reference*.\n",
        "4. Enter the number `6` for *Geometry Precision*.\n",
        "5. Click *Query (GET)*.  Leave as HMTL to see if it works\n",
        "6. Switch format to `GeoJSON`.\n",
        "7. Click Get\n",
        "8. Copy the URL and paste to your text file for use in the next cell."
      ]
    },
    {
      "cell_type": "code",
      "execution_count": null,
      "id": "e2d3f65e",
      "metadata": {
        "id": "e2d3f65e"
      },
      "outputs": [],
      "source": [
        "# get Overture Maps Bulding Footprints\n",
        "buildings_geojson = input(\"Paste the URL for the Overture Maps Building Footprints: \")"
      ]
    },
    {
      "cell_type": "markdown",
      "id": "dc6565c7",
      "metadata": {
        "id": "dc6565c7"
      },
      "source": [
        "Add it to the map"
      ]
    },
    {
      "cell_type": "code",
      "execution_count": null,
      "id": "17bac6c8",
      "metadata": {
        "id": "17bac6c8"
      },
      "outputs": [],
      "source": [
        "m.add_geojson(buildings_geojson, layer_name=\"Building Footprints\",\n",
        "              style={\"fillColor\": \"yellow\", \"color\": \"orange\", \"weight\": 1, \"fillOpacity\": 0.5})\n",
        "m"
      ]
    },
    {
      "cell_type": "markdown",
      "id": "1b80d39f",
      "metadata": {
        "id": "1b80d39f"
      },
      "source": [
        "#### Clean up the map\n",
        "\n",
        "The map has a few too many layers from trial and error.  Let's clean that up."
      ]
    },
    {
      "cell_type": "code",
      "execution_count": null,
      "id": "7466f33d",
      "metadata": {
        "id": "7466f33d"
      },
      "outputs": [],
      "source": [
        "# Insert values for map cen\n",
        "m_clean = Map(\n",
        "    center=(37.5, -85.9),\n",
        "    zoom=8)\n",
        "\n",
        "m_clean.add_tile_layer(\n",
        "    url=\"https://kygisserver.ky.gov/arcgis/rest/services/WGS84WM_Services/Ky_TCM_Base_WGS84WM/MapServer/tile/{z}/{y}/{x}\",\n",
        "    name=\"TCM\",\n",
        "    attribution=\"DGI\",)\n",
        "m_clean.add_geojson(buildings_geojson, layer_name=\"Building Footprints\",\n",
        "              style={\"fillColor\": \"yellow\", \"color\": \"orange\", \"weight\": 1, \"fillOpacity\": 0.5})\n"
      ]
    },
    {
      "cell_type": "code",
      "execution_count": null,
      "id": "19ed7a1e",
      "metadata": {
        "id": "19ed7a1e"
      },
      "outputs": [],
      "source": [
        "# display the map\n",
        "m_clean"
      ]
    },
    {
      "cell_type": "markdown",
      "id": "ae564b73",
      "metadata": {
        "id": "ae564b73"
      },
      "source": [
        "### Review\n",
        "\n",
        "What have we done up to now?\n",
        "\n",
        "1. Created an Interactive Map\n",
        "2. Added The Commonwealth Basemap\n",
        "3. Added Phase3 Pointcloud Tiles\n",
        "4. Added Buildings for AOI"
      ]
    },
    {
      "cell_type": "markdown",
      "id": "ea6ec935",
      "metadata": {
        "id": "ea6ec935"
      },
      "source": [
        "___\n",
        "### Get Building Heights\n",
        "\n",
        "In order to GET our building heights, we need to process our laz file so that we can add height values to the building footprints.\n",
        "\n",
        "This next step is a redundancy.  We're just doing it to set our variable in one spot."
      ]
    },
    {
      "cell_type": "code",
      "execution_count": null,
      "id": "3c21c9b5",
      "metadata": {
        "id": "3c21c9b5"
      },
      "outputs": [],
      "source": [
        "# declare variables\n",
        "buildings = buildings_geojson\n",
        "tile_url = aws_url\n",
        "\n",
        "# create an output folder if one doesn't exist\n",
        "if not os.path.exists('output'):\n",
        "    os.mkdir('output')"
      ]
    },
    {
      "cell_type": "markdown",
      "id": "f5c685a0",
      "metadata": {
        "id": "f5c685a0"
      },
      "source": [
        "[PDAL](https://pdal.io/en/2.8.4/)\\* - *Point Data Abstraction Data Library*\n",
        "\n",
        ">PDAL is C++ libary to translate and manipulate point cloud data.\n",
        "\n",
        "It also provides [Python](https://pdal.io/en/2.8.4/python.html) support.  For the purposes of this exercise, all the information we need is in the *Concepts* (we don't need to know about Java).\n",
        "\n",
        "<p><img src=\"https://github.com/ianhorn/kyfromabove-gisconference2025-workshop/blob/main/notebooks/assets/pdal_concepts.png?raw=1\" width=\"300\" height=\"auto\" /><p>  \n",
        "\n",
        "Take a moment to briefly review tthe concepts\n",
        "\n",
        "\\*For this exercise, I am using PDAL v2.8.4"
      ]
    },
    {
      "cell_type": "markdown",
      "id": "4aaef6ff",
      "metadata": {
        "id": "4aaef6ff"
      },
      "source": [
        "#### Surface Models and stuff\n",
        "\n",
        "To streamline processing, we are going to set up a pipeline using the concepts reviewed above.\n",
        "\n",
        "<p align=\"center\">\n",
        "    <img src=\"https://github.com/ianhorn/kyfromabove-gisconference2025-workshop/blob/main/notebooks/assets/pipeline.png?raw=1\" width=\"400\" height=\"auto\" />\n",
        "    <figcaption><strong>Figure:</strong> Representation of a PDAL Pipeline.</figcaption>\n",
        "</p>\n",
        "\n",
        "In order to get building heights, we need to get surface heights.  Traditionally, people will create a bare earth Digital Terrain Model (DEM/DTM), a Digital Surface Model (DSM), and then perform some raster math to get the *normalized Digital Surface Model* (nDSM)\n",
        "$$\n",
        "\\text{nDSM} = \\text{DTM} - \\text{DSM}\n",
        "$$\n",
        "\n",
        "This would mean we would have to create a new file for the DEM/DTM, a new file for the DSM, then perform some raster math create a file for the nDSM.  That's a lot of filters, files, processing, etc.  And frankly, I don't want to do that.  \n",
        "\n",
        "Instead, I like to create one pipeline, read one file, pass it through a series of filters, and export a file with surface height values.  This is call the *Height Above Ground*, or HAG for short."
      ]
    },
    {
      "cell_type": "markdown",
      "id": "848ad515",
      "metadata": {
        "id": "848ad515"
      },
      "source": [
        "\n",
        "#### Build a Pipeline\n",
        "\n",
        "Before we run our pipeline, I'm going to walk you through what we're going to do with PDAL.\n",
        "\n",
        "1. Read the Point Cloud File - Remember, it's a COPC  \n",
        "2. Filter to points for first return\n",
        "3. Use the HAG filter\n",
        "4. It's not enough to just create the HAG filter, we need to carry the values with us.\n",
        "5.  Save the HAG to file with the *maximum* value.\n",
        "\n",
        "```python\n",
        "    {\n",
        "        \"type\":\"readers.copc\",\n",
        "        \"filename\":f'{tile_url}'\n",
        "    },\n",
        "    {\n",
        "        \"type\":\"filters.expression\",\n",
        "        \"expression\":\"ReturnNumber == 1 || ReturnNumber == 1\"        \n",
        "    },\n",
        "    {\n",
        "        \"type\":\"filters.hag_delaunay\",\n",
        "        \"allow_extrapolation\":True\n",
        "    },\n",
        "    {\n",
        "        \"type\":\"filters.ferry\",\n",
        "        \"dimensions\":\"HeightAboveGround=>Z\"\n",
        "    },\n",
        "    {\n",
        "        \"type\":\"writers.gdal\",\n",
        "        \"filename\":\"output/hag.tif\",\n",
        "        \"resolution\":2,\n",
        "        \"output_type\":\"max\",\n",
        "        \"gdalopts\":[\n",
        "            \"COMPRESS=LZW\",\n",
        "            \"TILED=YES\",\n",
        "            \"BLOCKYSIZE=256\",\n",
        "            \"BLOCKYSIZE=256\"\n",
        "        ]\n",
        "    }\n",
        "```\n",
        "\n",
        "The result is one pipeline, one input, and one output.  Feel free to paste values into the next cell."
      ]
    },
    {
      "cell_type": "code",
      "execution_count": null,
      "id": "50a64105",
      "metadata": {
        "id": "50a64105"
      },
      "outputs": [],
      "source": [
        "# create a pdal pipeline\n",
        "# paste the above values between the brackets\n",
        "\n",
        "pipeline_json = [\n",
        "    {\n",
        "        \"type\":\"readers.copc\",\n",
        "        \"filename\":f'{tile_url}'\n",
        "    },\n",
        "    {\n",
        "        \"type\":\"filters.expression\",\n",
        "        \"expression\":\"ReturnNumber == 1 || ReturnNumber == 1\"\n",
        "    },\n",
        "    {\n",
        "        \"type\":\"filters.hag_delaunay\",\n",
        "        \"allow_extrapolation\":True\n",
        "    },\n",
        "    {\n",
        "        \"type\":\"filters.ferry\",\n",
        "        \"dimensions\":\"HeightAboveGround=>Z\"\n",
        "    },\n",
        "    {\n",
        "        \"type\":\"writers.gdal\",\n",
        "        \"filename\":\"output/hag.tif\",\n",
        "        \"resolution\":2,\n",
        "        \"output_type\":\"max\",\n",
        "        \"gdalopts\":[\n",
        "            \"COMPRESS=LZW\",\n",
        "            \"TILED=YES\",\n",
        "            \"BLOCKYSIZE=256\",\n",
        "            \"BLOCKYSIZE=256\"\n",
        "        ]\n",
        "    }\n",
        "]\n",
        "print(json.dumps(pipeline_json, indent=2))"
      ]
    },
    {
      "cell_type": "code",
      "execution_count": null,
      "id": "4792a60a",
      "metadata": {
        "id": "4792a60a"
      },
      "outputs": [],
      "source": [
        "# Add a timer\n",
        "# Start timer\n",
        "start = time.time()\n",
        "\n",
        "# Process the pipeline\n",
        "pipeline = pdal.Pipeline(json.dumps(pipeline_json))\n",
        "count = pipeline.execute()\n",
        "arrays = pipeline.arrays\n",
        "print(f\"Processed {count} points.\")\n",
        "\n",
        "# create variable to the hag file\n",
        "hag_file = \"output/hag.tif\"\n",
        "\n",
        "# End timer\n",
        "end = time.time()\n",
        "print(f\"Execution time: {end - start:.2f} seconds\")"
      ]
    },
    {
      "cell_type": "code",
      "execution_count": null,
      "id": "042e1359",
      "metadata": {
        "id": "042e1359"
      },
      "outputs": [],
      "source": [
        "# Check it in a map\n",
        "m_clean.add_raster(hag_file, layer_name=\"Height Above Ground (Feet)\", colormap=\"terrain\")\n",
        "m_clean"
      ]
    },
    {
      "cell_type": "markdown",
      "id": "35a1135c",
      "metadata": {
        "id": "35a1135c"
      },
      "source": [
        "#### Zonal Statistics\n",
        "\n",
        "We've successfully created HAG model file.  Now we can use zonal statistics to create the building height attributes.  For this, you can refer to the [rasterstats](https://pythonhosted.org/rasterstats/index.html) documentation."
      ]
    },
    {
      "cell_type": "markdown",
      "id": "99227b4c",
      "metadata": {
        "id": "99227b4c"
      },
      "source": [
        "##### Housekeeping\n",
        "If you recall, we've pulled building footprints using WGS84 and the HAG file is projected in its original Kentucky Single Zone: *EPSG:3089*.  This won't work for processing.  We will have to get the CRS value of one, and assign it to the other.  Since our tif is in EPSG:3089 and we are concerned with Kentucky values, we'll assign single zone to the buildings."
      ]
    },
    {
      "cell_type": "code",
      "execution_count": null,
      "id": "3b5816ed",
      "metadata": {
        "id": "3b5816ed"
      },
      "outputs": [],
      "source": [
        "# Use python to get the hag file crs.\n",
        "# This way, we know that CRSs are the same.\n",
        "# Rasterio is a good tool for this.\n",
        "with rasterio.open(hag_file) as src:\n",
        "    src_crs = src.crs\n",
        "\n",
        "src_crs"
      ]
    },
    {
      "cell_type": "code",
      "execution_count": null,
      "id": "2f367dd3",
      "metadata": {
        "id": "2f367dd3"
      },
      "outputs": [],
      "source": [
        "# read building file with Geopandas\n",
        "buildings = gpd.read_file(buildings_geojson)\n",
        "buildings = buildings.to_crs(src_crs)\n",
        "\n",
        "# assign values to to buildings\n",
        "stats = zonal_stats(buildings, hag_file, stats=\"min max mean median std\")\n",
        "stats[:5]  # print the first five"
      ]
    },
    {
      "cell_type": "markdown",
      "id": "111cbcb3",
      "metadata": {
        "id": "111cbcb3"
      },
      "source": [
        "This looks good.  We have the values for building heights.  Time to save it to file.\n",
        "\n",
        "- add height attributes to the buildings geodataframe.\n",
        "- save to your preferred vector format"
      ]
    },
    {
      "cell_type": "code",
      "execution_count": null,
      "id": "0ebb581c",
      "metadata": {
        "id": "0ebb581c"
      },
      "outputs": [],
      "source": [
        "# assign stat fields to buildings\n",
        "buildings[\"hag_min\"] = [s[\"min\"] for s in stats]\n",
        "buildings[\"hag_max\"] = [s[\"max\"] for s in stats]\n",
        "buildings[\"hag_mean\"] = [s[\"mean\"] for s in stats]\n",
        "buildings[\"hag_median\"] = [s[\"median\"] for s in stats]\n",
        "buildings[\"hag_std\"] = [s[\"std\"] for s in stats]\n",
        "\n",
        "# Save updated GeoJSON or GPKG\n",
        "buildings.to_file(\"output/buildings_with_hag.gpkg\", driver=\"GPKG\")\n",
        "buildings.to_file(\"output/buildings_with_hag.json\", driver=\"GeoJSON\")"
      ]
    },
    {
      "cell_type": "markdown",
      "id": "f0e747ff",
      "metadata": {
        "id": "f0e747ff"
      },
      "source": [
        "# Congratulations!\n",
        "\n",
        "You have completed this exercise.  We have taken building footprints, a pointcloud file in the cloud, and ran it through a few processes to add height attributes to builings.  \n",
        "\n",
        "Logically, the next step would be to create a 3D Builing layer from our 2D buildings with heights, but I'd rather focus the rest of the time helping you with any questions you have."
      ]
    },
    {
      "cell_type": "markdown",
      "id": "2f0526af",
      "metadata": {
        "id": "2f0526af"
      },
      "source": [
        "### Bonus\n",
        "\n",
        "Convert to 3d"
      ]
    },
    {
      "cell_type": "code",
      "execution_count": null,
      "id": "aab20880",
      "metadata": {
        "id": "aab20880"
      },
      "outputs": [],
      "source": [
        "# read buildings from last output\n",
        "gdf = gpd.read_file(\"output/buildings_with_hag.gpkg\")\n",
        "\n",
        "# extrude\n",
        "meshes = []\n",
        "for _, row in gdf.iterrows():\n",
        "    h = row[\"hag_max\"]\n",
        "    footprint = row.geometry\n",
        "\n",
        "    # Convert polygon exterior to 3D (Z=0)\n",
        "    base_coords = [(x, y, 0) for x, y in footprint.exterior.coords]\n",
        "    roof_coords = [(x, y, h) for x, y in footprint.exterior.coords]\n",
        "\n",
        "    # Stack base and roof into a prism\n",
        "    prism = trimesh.creation.extrude_polygon(footprint, h)\n",
        "    meshes.append(prism)\n",
        "\n",
        "scene = trimesh.Scene(meshes)\n",
        "scene.show()"
      ]
    }
  ],
  "metadata": {
    "kernelspec": {
      "display_name": "workshop-env",
      "language": "python",
      "name": "python3"
    },
    "language_info": {
      "codemirror_mode": {
        "name": "ipython",
        "version": 3
      },
      "file_extension": ".py",
      "mimetype": "text/x-python",
      "name": "python",
      "nbconvert_exporter": "python",
      "pygments_lexer": "ipython3",
      "version": "3.12.10"
    },
    "colab": {
      "provenance": []
    }
  },
  "nbformat": 4,
  "nbformat_minor": 5
}